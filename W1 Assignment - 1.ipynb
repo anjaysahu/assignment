{
 "cells": [
  {
   "cell_type": "markdown",
   "id": "e0b6f9cf-0e1b-411a-8d00-35a7db4e67c2",
   "metadata": {},
   "source": [
    "Q1. Create one variable containing following type of data:  \n",
    "\n",
    "(i) string   \n",
    "(ii) list   \n",
    "(iii) float  \n",
    "(iv) tuple  "
   ]
  },
  {
   "cell_type": "markdown",
   "id": "15fb31ed-c313-4e12-bad8-c1795f9ca8fd",
   "metadata": {},
   "source": [
    "#### Answer -    \n",
    "(i) string"
   ]
  },
  {
   "cell_type": "code",
   "execution_count": 1,
   "id": "3ef33b1e-1002-40b9-a09b-c8e41ca7b2dc",
   "metadata": {},
   "outputs": [],
   "source": [
    "a = 'anjay sahu'"
   ]
  },
  {
   "cell_type": "markdown",
   "id": "2456b0f2-9d30-425d-a927-1e5dc84144ce",
   "metadata": {},
   "source": [
    "(ii) list"
   ]
  },
  {
   "cell_type": "code",
   "execution_count": 2,
   "id": "a98c99f9-ee63-4d75-a93c-c0898b7e13ed",
   "metadata": {
    "tags": []
   },
   "outputs": [],
   "source": [
    "l = [1, 2, 3, 85.36, True, 6+3j, 'anjay']"
   ]
  },
  {
   "cell_type": "markdown",
   "id": "4eb1c0b2-c2bc-4d4b-9e81-8fc43db14e07",
   "metadata": {},
   "source": [
    "(iii) float"
   ]
  },
  {
   "cell_type": "code",
   "execution_count": 3,
   "id": "ee538839-4c9a-4575-82e0-8cf03fb27864",
   "metadata": {
    "tags": []
   },
   "outputs": [],
   "source": [
    "f = 56.32"
   ]
  },
  {
   "cell_type": "markdown",
   "id": "0e03b3b4-08e1-4bf2-b821-d33716d5cbf5",
   "metadata": {},
   "source": [
    "(iv) tuple"
   ]
  },
  {
   "cell_type": "code",
   "execution_count": 4,
   "id": "39425749-11d5-4351-8993-c9868ecb0711",
   "metadata": {},
   "outputs": [],
   "source": [
    "t = (1, 5, 6, True, 15.32, 'anjay', [5,6,'my',False,2.55], 2+5j)"
   ]
  },
  {
   "cell_type": "markdown",
   "id": "690d9ec8-873f-4c73-b3b0-c17e3a8f565e",
   "metadata": {},
   "source": [
    "    "
   ]
  },
  {
   "cell_type": "markdown",
   "id": "2d184174-f717-461b-ac34-c813a2b91735",
   "metadata": {},
   "source": [
    " Q2. Given are some following variables containing data :  \n",
    " \n",
    "(i) var1 = ‘ ‘  \n",
    "(ii) var2 = ‘[ DS , ML , Python]’  \n",
    "(iii) var3 = [ ‘DS’ , ’ML’ , ‘Python’ ]   \n",
    "(iv) var4 = 1.    \n",
    "\n",
    "What will be the data type of the above given variable."
   ]
  },
  {
   "cell_type": "markdown",
   "id": "8b30859b-3fdc-45e2-a7d2-9cdb4b45c8b6",
   "metadata": {},
   "source": [
    "#### Answer -     \n",
    "(i) var1 = ‘ ‘  \n",
    "ans. - string\n",
    "\n",
    "(ii) var2 = ‘[ DS , ML , Python]’   \n",
    "ans. - string\n",
    "\n",
    "(iii) var3 = [ ‘DS’ , ’ML’ , ‘Python’ ]    \n",
    "ans. - list \n",
    "\n",
    "(iv) var4 = 1  \n",
    "ans. - integer"
   ]
  },
  {
   "cell_type": "markdown",
   "id": "4b4c5ec8-184f-485f-9dd0-1c99bf5ff838",
   "metadata": {},
   "source": [
    "         "
   ]
  },
  {
   "cell_type": "markdown",
   "id": "22da514b-38c0-4525-9605-67b5ca115402",
   "metadata": {},
   "source": [
    "Q3. Explain the use of the following operators using an example:  \n",
    "(i) /  \n",
    "(ii) %   \n",
    "(iii) //  \n",
    "(iv) **  "
   ]
  },
  {
   "cell_type": "markdown",
   "id": "65a5d9be-8e20-4501-a8d8-16a18c15e0e7",
   "metadata": {},
   "source": [
    "#### Answer -"
   ]
  },
  {
   "cell_type": "markdown",
   "id": "5dec77e5-a9fa-490a-a8ae-bf504f0d251e",
   "metadata": {},
   "source": [
    "(i) /"
   ]
  },
  {
   "cell_type": "code",
   "execution_count": 5,
   "id": "da7b2801-e85d-4929-a150-3f38f53f2783",
   "metadata": {},
   "outputs": [
    {
     "data": {
      "text/plain": [
       "4.5"
      ]
     },
     "execution_count": 5,
     "metadata": {},
     "output_type": "execute_result"
    }
   ],
   "source": [
    "9/2  # ( / ) use for division"
   ]
  },
  {
   "cell_type": "markdown",
   "id": "90cf929a-ac2c-4230-9489-f1335e08940a",
   "metadata": {},
   "source": [
    "(ii) %"
   ]
  },
  {
   "cell_type": "code",
   "execution_count": 6,
   "id": "b058c0a3-9743-4ced-a2b4-cf44814cb228",
   "metadata": {},
   "outputs": [
    {
     "data": {
      "text/plain": [
       "2"
      ]
     },
     "execution_count": 6,
     "metadata": {},
     "output_type": "execute_result"
    }
   ],
   "source": [
    "14%3  # use (%) to get remainder"
   ]
  },
  {
   "cell_type": "markdown",
   "id": "9292f22a-8429-4e87-8f4f-4c0c096abab3",
   "metadata": {},
   "source": [
    "(iii) //"
   ]
  },
  {
   "cell_type": "code",
   "execution_count": 7,
   "id": "9d97153d-7b28-4f8b-870f-a57f126a90c9",
   "metadata": {},
   "outputs": [
    {
     "data": {
      "text/plain": [
       "6"
      ]
     },
     "execution_count": 7,
     "metadata": {},
     "output_type": "execute_result"
    }
   ],
   "source": [
    "33//5 # use (//) to get division floor"
   ]
  },
  {
   "cell_type": "markdown",
   "id": "b7d7c6ee-67db-4f33-a750-cf0737b74fff",
   "metadata": {},
   "source": [
    "(iv) **"
   ]
  },
  {
   "cell_type": "code",
   "execution_count": 8,
   "id": "8bbe40ea-e4a8-4524-bdaa-a8d8f794c572",
   "metadata": {},
   "outputs": [
    {
     "data": {
      "text/plain": [
       "27"
      ]
     },
     "execution_count": 8,
     "metadata": {},
     "output_type": "execute_result"
    }
   ],
   "source": [
    "3**3 # use (**) to get  power"
   ]
  },
  {
   "cell_type": "markdown",
   "id": "6033f17a-298d-40c9-bfdc-6906a8773baa",
   "metadata": {},
   "source": [
    "    "
   ]
  },
  {
   "cell_type": "markdown",
   "id": "0d626384-d07c-4631-9cff-6ccbd860999f",
   "metadata": {},
   "source": [
    "Q4. Create a list of length 10 of your choice containing multiple types of data. Using for loop print the\n",
    "element and its data type."
   ]
  },
  {
   "cell_type": "markdown",
   "id": "b255c9c3-963d-4ce3-b7d1-72bd0c8184fd",
   "metadata": {},
   "source": [
    "#### Answer -"
   ]
  },
  {
   "cell_type": "code",
   "execution_count": 9,
   "id": "4db8ab13-1ebe-4f76-bce3-c114ceb15076",
   "metadata": {},
   "outputs": [
    {
     "name": "stdout",
     "output_type": "stream",
     "text": [
      "1\n",
      "<class 'int'>\n",
      "6\n",
      "<class 'int'>\n",
      "True\n",
      "<class 'bool'>\n",
      "(6+5j)\n",
      "<class 'complex'>\n",
      "anjay\n",
      "<class 'str'>\n",
      "23.65\n",
      "<class 'float'>\n",
      "False\n",
      "<class 'bool'>\n",
      "55\n",
      "<class 'int'>\n",
      "data\n",
      "<class 'str'>\n",
      "12\n",
      "<class 'int'>\n"
     ]
    }
   ],
   "source": [
    "l = [1, 6, True, 6+5j, 'anjay', 23.65, False, 55, 'data', 12]\n",
    "\n",
    "for i in l:\n",
    "    print(i)\n",
    "    print(type(i))"
   ]
  },
  {
   "cell_type": "markdown",
   "id": "886bd9a9-1ad4-45fa-99cd-3c932eb46c6a",
   "metadata": {},
   "source": [
    "    "
   ]
  },
  {
   "cell_type": "markdown",
   "id": "640c4f3c-49d2-4a4c-a77a-90fa24183803",
   "metadata": {},
   "source": [
    "Q5. Using a while loop, verify if the number A is purely divisible by number B and if so then how many\n",
    "times it can be divisible."
   ]
  },
  {
   "cell_type": "markdown",
   "id": "b0f6ef80-55cf-447a-bbf5-33b4aa1c0970",
   "metadata": {},
   "source": [
    "#### Answer - "
   ]
  },
  {
   "cell_type": "code",
   "execution_count": 10,
   "id": "1bef8b94-8abc-46c3-b5cd-764daecf8e1e",
   "metadata": {},
   "outputs": [
    {
     "name": "stdout",
     "output_type": "stream",
     "text": [
      "yes, number A is divisible by number B and it's divisible by 5 times \n",
      "yes, number A is divisible by number B and it's divisible by 3 times \n",
      "yes, number A is divisible by number B and it's divisible by 2 times \n",
      "number A is not divisible by number B\n"
     ]
    }
   ],
   "source": [
    "A = 10\n",
    "B = 2\n",
    "\n",
    "while A%B == 0 :\n",
    "    A = A//B\n",
    "    print(f\"yes, number A is divisible by number B and it's divisible by {A} times \")\n",
    "    A = A + 1\n",
    "    \n",
    "else:\n",
    "    print(\"number A is not divisible by number B\")"
   ]
  },
  {
   "cell_type": "markdown",
   "id": "81ba0803-795c-4bcf-ae66-8c755ec442d7",
   "metadata": {},
   "source": [
    "  "
   ]
  },
  {
   "cell_type": "markdown",
   "id": "7bc77ac2-8cdb-46d1-9660-8ba15ac581b2",
   "metadata": {},
   "source": [
    "Q6. Create a list containing 25 int type data. Using for loop and if-else condition print if the element is\n",
    "divisible by 3 or not."
   ]
  },
  {
   "cell_type": "markdown",
   "id": "869961ca-6bd7-4457-a9d0-0dcc9dd29800",
   "metadata": {},
   "source": [
    "#### Answer - "
   ]
  },
  {
   "cell_type": "code",
   "execution_count": 11,
   "id": "9529f3b3-bd0e-4933-84dd-51a976b56848",
   "metadata": {},
   "outputs": [
    {
     "name": "stdout",
     "output_type": "stream",
     "text": [
      "this is not divisible by 3\n",
      "this is not divisible by 3\n",
      "yes, this is divisible by 3\n",
      "yes, this is divisible by 3\n",
      "this is not divisible by 3\n",
      "this is not divisible by 3\n",
      "yes, this is divisible by 3\n",
      "yes, this is divisible by 3\n",
      "this is not divisible by 3\n",
      "this is not divisible by 3\n",
      "yes, this is divisible by 3\n",
      "this is not divisible by 3\n",
      "this is not divisible by 3\n",
      "this is not divisible by 3\n",
      "this is not divisible by 3\n",
      "this is not divisible by 3\n",
      "this is not divisible by 3\n",
      "this is not divisible by 3\n",
      "this is not divisible by 3\n",
      "this is not divisible by 3\n",
      "yes, this is divisible by 3\n",
      "yes, this is divisible by 3\n",
      "this is not divisible by 3\n",
      "yes, this is divisible by 3\n",
      "yes, this is divisible by 3\n"
     ]
    }
   ],
   "source": [
    "j = [1,2,3,9,8,7,45,78,796,64,45,65,68,65,59,152,596,89,65,784,54,894,59,51,90]\n",
    "\n",
    "for a in j:\n",
    "    if a%3 == 0 :\n",
    "        print('yes, this is divisible by 3')\n",
    "    else:\n",
    "        print('this is not divisible by 3')"
   ]
  },
  {
   "cell_type": "markdown",
   "id": "19972cdf-22ab-4241-b524-a44b90ec3d74",
   "metadata": {},
   "source": [
    "  \n",
    "  \n",
    "  \n",
    "  "
   ]
  },
  {
   "cell_type": "markdown",
   "id": "79e23b9d-3864-4a21-8314-be0d84a5cba8",
   "metadata": {},
   "source": [
    "Q7. What do you understand about mutable and immutable data types? Give examples for both showing\n",
    "this property."
   ]
  },
  {
   "cell_type": "markdown",
   "id": "558946d3-b9be-4c0f-8ac1-9a3974420cf2",
   "metadata": {},
   "source": [
    "#### Answer - "
   ]
  },
  {
   "cell_type": "code",
   "execution_count": 12,
   "id": "b43a7da1-2521-4e52-b377-78c6d000afc7",
   "metadata": {},
   "outputs": [
    {
     "data": {
      "text/plain": [
       "[1, 'my', 6, 9, 'anjay', 'class']"
      ]
     },
     "execution_count": 12,
     "metadata": {},
     "output_type": "execute_result"
    }
   ],
   "source": [
    "a = [1,5,6,9,\"anjay\",\"class\"] \n",
    "a[1] = \"my\"\n",
    "a"
   ]
  },
  {
   "cell_type": "markdown",
   "id": "f531cfd5-f3f5-481d-90e9-f2f0d3ef81fa",
   "metadata": {},
   "source": [
    "##### Mutable =\n",
    "Mutable is the data type in which we can access any data through indexing And change or reassign it."
   ]
  },
  {
   "cell_type": "code",
   "execution_count": 13,
   "id": "3aba8bd6-babf-4a05-884c-cb76b565f856",
   "metadata": {},
   "outputs": [
    {
     "ename": "TypeError",
     "evalue": "'str' object does not support item assignment",
     "output_type": "error",
     "traceback": [
      "\u001b[0;31m---------------------------------------------------------------------------\u001b[0m",
      "\u001b[0;31mTypeError\u001b[0m                                 Traceback (most recent call last)",
      "Cell \u001b[0;32mIn[13], line 2\u001b[0m\n\u001b[1;32m      1\u001b[0m s \u001b[38;5;241m=\u001b[39m \u001b[38;5;124m\"\u001b[39m\u001b[38;5;124manjay\u001b[39m\u001b[38;5;124m\"\u001b[39m\n\u001b[0;32m----> 2\u001b[0m \u001b[43ms\u001b[49m\u001b[43m[\u001b[49m\u001b[38;5;241;43m3\u001b[39;49m\u001b[43m]\u001b[49m \u001b[38;5;241m=\u001b[39m \u001b[38;5;124m\"\u001b[39m\u001b[38;5;124mo\u001b[39m\u001b[38;5;124m\"\u001b[39m\n\u001b[1;32m      3\u001b[0m s\n",
      "\u001b[0;31mTypeError\u001b[0m: 'str' object does not support item assignment"
     ]
    }
   ],
   "source": [
    "s = \"anjay\"\n",
    "s[3] = \"o\"\n",
    "s"
   ]
  },
  {
   "cell_type": "markdown",
   "id": "bbf4ec61-3883-4595-b29a-7a5633540f2b",
   "metadata": {},
   "source": [
    "##### Immutable = \n",
    "Immutable is the data type in which we can access any data through indexing but we can't change or reassign it."
   ]
  },
  {
   "cell_type": "code",
   "execution_count": null,
   "id": "ac40e304-fa51-4b6a-bec3-94377a73f12a",
   "metadata": {},
   "outputs": [],
   "source": []
  }
 ],
 "metadata": {
  "kernelspec": {
   "display_name": "Python 3 (ipykernel)",
   "language": "python",
   "name": "python3"
  },
  "language_info": {
   "codemirror_mode": {
    "name": "ipython",
    "version": 3
   },
   "file_extension": ".py",
   "mimetype": "text/x-python",
   "name": "python",
   "nbconvert_exporter": "python",
   "pygments_lexer": "ipython3",
   "version": "3.10.8"
  }
 },
 "nbformat": 4,
 "nbformat_minor": 5
}
