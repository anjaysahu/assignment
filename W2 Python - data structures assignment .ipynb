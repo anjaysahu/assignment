{
 "cells": [
  {
   "cell_type": "markdown",
   "id": "abc59277-a92f-4d43-b38a-07bf1cdb9a3f",
   "metadata": {},
   "source": [
    "Q1. How do you comment code in Python? What are the different types of comments?"
   ]
  },
  {
   "cell_type": "markdown",
   "id": "aee2db49-edbc-4b75-aa91-d1bfb73e0b92",
   "metadata": {},
   "source": [
    "#### Answer - \n",
    "There are two different types of commenting code in Python.\n",
    "1.  For single line comment we use ( # or ## )\n",
    "2.  For multiple line comment we use ( ''' example ''' )"
   ]
  },
  {
   "cell_type": "markdown",
   "id": "0cee12ce-5fea-4b16-9aa7-6eb42f187025",
   "metadata": {},
   "source": [
    "Q2. What are variables in Python? How do you declare and assign values to variables?"
   ]
  },
  {
   "cell_type": "markdown",
   "id": "2e92a034-c46f-4ecc-adab-86e7880e8366",
   "metadata": {
    "tags": []
   },
   "source": [
    "#### Answer -\n",
    "We use variables to store data in python. First, we give the variable name using alphabet character or underscore after that use = to assign the value then we press shift + enter to declare and assign values to variables."
   ]
  },
  {
   "cell_type": "markdown",
   "id": "bef72f4b-cb88-4fe4-9416-522283317315",
   "metadata": {},
   "source": [
    "Q3. How do you convert one data type to another in Python?"
   ]
  },
  {
   "cell_type": "markdown",
   "id": "0d29c4d3-1a53-4c7c-8bb6-e7e14793aec7",
   "metadata": {},
   "source": [
    "#### Answer -\n",
    "In Python, I want to convert one data type to another then I can use built-in functions.\n",
    "##### For example -"
   ]
  },
  {
   "cell_type": "code",
   "execution_count": 1,
   "id": "4dfa1640-023a-4018-b4d0-c8c416a694d3",
   "metadata": {},
   "outputs": [
    {
     "data": {
      "text/plain": [
       "int"
      ]
     },
     "execution_count": 1,
     "metadata": {},
     "output_type": "execute_result"
    }
   ],
   "source": [
    "type(50)"
   ]
  },
  {
   "cell_type": "code",
   "execution_count": 2,
   "id": "95fc985f-08a1-4e08-a267-3592e1d4ddac",
   "metadata": {},
   "outputs": [],
   "source": [
    "a = str(50)"
   ]
  },
  {
   "cell_type": "code",
   "execution_count": 3,
   "id": "289007a1-e809-463f-acda-c552e422282f",
   "metadata": {},
   "outputs": [
    {
     "data": {
      "text/plain": [
       "str"
      ]
     },
     "execution_count": 3,
     "metadata": {},
     "output_type": "execute_result"
    }
   ],
   "source": [
    "type(a) # str is a built-in function to convert any data type to a string data type."
   ]
  },
  {
   "cell_type": "markdown",
   "id": "0e2c1cd2-fdcb-4cf2-9679-fd414d9de01c",
   "metadata": {},
   "source": [
    "Q4. How do you write and execute a Python script from the command line?\n",
    "#### Answer - "
   ]
  },
  {
   "cell_type": "markdown",
   "id": "19e3e166-a44f-48c2-a1fb-0b86ac83f0cd",
   "metadata": {},
   "source": [
    "##### I am not able to understand this question, what is Python script and command line, I have not studied it yet, so please explain it and email me."
   ]
  },
  {
   "cell_type": "markdown",
   "id": "2790c6d7-41b0-41d3-ba5f-f81f23da6a33",
   "metadata": {},
   "source": [
    "Q5. Given a list my_list = [1, 2, 3, 4, 5], write the code to slice the list and obtain the sub-list [2, 3].  \n",
    "\n",
    "#### Answer -"
   ]
  },
  {
   "cell_type": "code",
   "execution_count": 4,
   "id": "99ec712a-2ce3-4be2-9ae4-72347c86b9da",
   "metadata": {},
   "outputs": [],
   "source": [
    "my_list = [1, 2, 3, 4, 5]"
   ]
  },
  {
   "cell_type": "code",
   "execution_count": 5,
   "id": "d35bef9e-711e-4fef-bc1a-e948e5a13811",
   "metadata": {},
   "outputs": [
    {
     "data": {
      "text/plain": [
       "[2, 3]"
      ]
     },
     "execution_count": 5,
     "metadata": {},
     "output_type": "execute_result"
    }
   ],
   "source": [
    "my_list[1:3]"
   ]
  },
  {
   "cell_type": "markdown",
   "id": "fa36d2a9-bf54-4453-b158-620a885e44bd",
   "metadata": {},
   "source": [
    "Q6. What is a complex number in mathematics, and how is it represented in Python?"
   ]
  },
  {
   "cell_type": "markdown",
   "id": "55d32169-913c-40b4-9a37-320908b17060",
   "metadata": {},
   "source": [
    "#### Answer - \n",
    "Combination of a real number and imaginary number (5+3i) is a complex number in mathematics, and complex number in python represented by (4+2j)."
   ]
  },
  {
   "cell_type": "markdown",
   "id": "0b0e4bad-98d3-48ba-8976-c72dbd810eb2",
   "metadata": {},
   "source": [
    "Q7. What is the correct way to declare a variable named age and assign the value 25 to it?"
   ]
  },
  {
   "cell_type": "code",
   "execution_count": 6,
   "id": "7611e5d8-9d1f-4b88-bbce-876a2b003ed6",
   "metadata": {},
   "outputs": [],
   "source": [
    "age = 25"
   ]
  },
  {
   "cell_type": "markdown",
   "id": "a3e6b43f-f630-4dfc-a046-8258ff5bf1cd",
   "metadata": {},
   "source": [
    "Q8. Declare a variable named price and assign the value 9.99 to it. What data type does this variable\n",
    "belong to?"
   ]
  },
  {
   "cell_type": "code",
   "execution_count": 7,
   "id": "1eab7ef4-d85f-4c0d-93f1-98d9bc80936d",
   "metadata": {},
   "outputs": [],
   "source": [
    "price = 9.99"
   ]
  },
  {
   "cell_type": "code",
   "execution_count": 8,
   "id": "c041b660-deb9-48e4-adf8-6c8a0c1659f0",
   "metadata": {},
   "outputs": [
    {
     "data": {
      "text/plain": [
       "float"
      ]
     },
     "execution_count": 8,
     "metadata": {},
     "output_type": "execute_result"
    }
   ],
   "source": [
    "type(price) # This variable belongs to floating-point data type."
   ]
  },
  {
   "cell_type": "markdown",
   "id": "7e5d454f-2102-4252-b37f-cc84079588c8",
   "metadata": {},
   "source": [
    "Q9. Create a variable named name and assign your full name to it as a string. How would you print the\n",
    "value of this variable?"
   ]
  },
  {
   "cell_type": "code",
   "execution_count": 9,
   "id": "fcc15be4-6fc8-40b4-b0f9-f588f338ddc4",
   "metadata": {},
   "outputs": [],
   "source": [
    "name = \"Anjay Sahu\""
   ]
  },
  {
   "cell_type": "code",
   "execution_count": 10,
   "id": "4ad9e539-d4b7-47e8-894f-9952c02525e1",
   "metadata": {},
   "outputs": [
    {
     "data": {
      "text/plain": [
       "'Anjay Sahu'"
      ]
     },
     "execution_count": 10,
     "metadata": {},
     "output_type": "execute_result"
    }
   ],
   "source": [
    "name # To print the value of any variable we just have to call the variable name."
   ]
  },
  {
   "cell_type": "markdown",
   "id": "1804fd37-96d5-4c61-8d04-86ef418b9ec0",
   "metadata": {},
   "source": [
    "Q10. Given the string \"Hello, World!\", extract the substring \"World\"."
   ]
  },
  {
   "cell_type": "code",
   "execution_count": 11,
   "id": "228c1d2c-8e89-41bf-a201-1df7a4b08aed",
   "metadata": {},
   "outputs": [],
   "source": [
    "s = \"Hello, World!\""
   ]
  },
  {
   "cell_type": "code",
   "execution_count": 12,
   "id": "2bcce3d8-9db7-4e52-8e9f-674712779c73",
   "metadata": {},
   "outputs": [
    {
     "data": {
      "text/plain": [
       "'World'"
      ]
     },
     "execution_count": 12,
     "metadata": {},
     "output_type": "execute_result"
    }
   ],
   "source": [
    "s[7:12]"
   ]
  },
  {
   "cell_type": "markdown",
   "id": "71b33e5e-a988-41cc-8cab-7323746dc275",
   "metadata": {},
   "source": [
    "Q11. Create a variable named \"is_student\" and assign it a boolean value indicating whether you are\n",
    "currently a student or not."
   ]
  },
  {
   "cell_type": "code",
   "execution_count": 13,
   "id": "9819eb66-5fb8-4ead-beb2-d0b2a4d2818d",
   "metadata": {},
   "outputs": [],
   "source": [
    "is_student = True"
   ]
  },
  {
   "cell_type": "code",
   "execution_count": null,
   "id": "270f5b5b-82fa-4dbc-84d9-c8e66a739f4a",
   "metadata": {},
   "outputs": [],
   "source": []
  }
 ],
 "metadata": {
  "kernelspec": {
   "display_name": "Python 3 (ipykernel)",
   "language": "python",
   "name": "python3"
  },
  "language_info": {
   "codemirror_mode": {
    "name": "ipython",
    "version": 3
   },
   "file_extension": ".py",
   "mimetype": "text/x-python",
   "name": "python",
   "nbconvert_exporter": "python",
   "pygments_lexer": "ipython3",
   "version": "3.10.8"
  }
 },
 "nbformat": 4,
 "nbformat_minor": 5
}
