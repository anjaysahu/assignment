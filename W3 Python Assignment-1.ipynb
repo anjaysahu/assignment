{
 "cells": [
  {
   "cell_type": "markdown",
   "id": "5ab69428-48af-4687-b91c-56bc3f939596",
   "metadata": {},
   "source": [
    "Q1. Which keyword is used to create a function? Create a function to return a list of odd numbers in the range of 1 to 25."
   ]
  },
  {
   "cell_type": "markdown",
   "id": "c775496c-1c1b-4958-a710-08a55c957642",
   "metadata": {
    "tags": []
   },
   "source": [
    "#### Answer -\n",
    "def keyword is used to create a function."
   ]
  },
  {
   "cell_type": "code",
   "execution_count": 1,
   "id": "03aae1eb-7467-4cca-8e61-ef2d45298e54",
   "metadata": {},
   "outputs": [],
   "source": [
    "odd_num_list = []\n",
    "def odd_num():\n",
    "    for i in range(1,25):\n",
    "        if i%2 != 0:\n",
    "            odd_num_list.append(i)\n",
    "    return(odd_num_list)"
   ]
  },
  {
   "cell_type": "code",
   "execution_count": 2,
   "id": "f489dc30-581f-4027-b1f9-df36f33c388d",
   "metadata": {},
   "outputs": [
    {
     "data": {
      "text/plain": [
       "[1, 3, 5, 7, 9, 11, 13, 15, 17, 19, 21, 23]"
      ]
     },
     "execution_count": 2,
     "metadata": {},
     "output_type": "execute_result"
    }
   ],
   "source": [
    "odd_num()"
   ]
  },
  {
   "cell_type": "markdown",
   "id": "043da0a9-7c8e-4412-89b0-abb7290e091a",
   "metadata": {},
   "source": [
    "Q2. Why *args and **kwargs is used in some functions? Create a function each for *args and **kwargs to demonstrate their use."
   ]
  },
  {
   "cell_type": "markdown",
   "id": "820f674b-4633-426f-8f25-63e8c597eb42",
   "metadata": {
    "tags": []
   },
   "source": [
    "#### Answer -\n",
    "In Python *args is used to pass multiple inputs and **kwargs is used to pass multiple inputs as key-value pair."
   ]
  },
  {
   "cell_type": "code",
   "execution_count": 3,
   "id": "0e91c306-0895-4e59-a3cf-6b02793eb529",
   "metadata": {},
   "outputs": [],
   "source": [
    "def fun_a(*args):\n",
    "    return args"
   ]
  },
  {
   "cell_type": "code",
   "execution_count": 4,
   "id": "aace810e-29e8-44fb-943c-207cf69ce195",
   "metadata": {},
   "outputs": [
    {
     "data": {
      "text/plain": [
       "(25, 69, 45, 5.3, 2.85, 1, 2.23, 'data', [21, 54, 8, 9])"
      ]
     },
     "execution_count": 4,
     "metadata": {},
     "output_type": "execute_result"
    }
   ],
   "source": [
    "fun_a(25,69,45,5.30,2.85,1,2.23,\"data\",[21,54,8,9])"
   ]
  },
  {
   "cell_type": "code",
   "execution_count": 5,
   "id": "73ba8937-ae14-4f13-a9ab-3f1e7d1a3430",
   "metadata": {},
   "outputs": [],
   "source": [
    "def fun_kwa(**kwargs):\n",
    "    return kwargs"
   ]
  },
  {
   "cell_type": "code",
   "execution_count": 6,
   "id": "e1212691-c9be-4c2b-8858-394c708e5ba1",
   "metadata": {},
   "outputs": [
    {
     "data": {
      "text/plain": [
       "{'a': 45, 'b': 'anjay', 'c': [21, 45, 'aj'], 'd': 35.01}"
      ]
     },
     "execution_count": 6,
     "metadata": {},
     "output_type": "execute_result"
    }
   ],
   "source": [
    "fun_kwa(a = 45,b = \"anjay\",c = [21,45,\"aj\"],d = 35.01)"
   ]
  },
  {
   "cell_type": "markdown",
   "id": "50535e21-9ded-4744-81db-01674e4c1d63",
   "metadata": {},
   "source": [
    "   \n",
    "Q3. What is an iterator in python? Name the method used to initialise the iterator object and the method\n",
    "used for iteration. Use these methods to print the first five elements of the given list [2, 4, 6, 8, 10, 12, 14,\n",
    "16, 18, 20]."
   ]
  },
  {
   "cell_type": "markdown",
   "id": "17db380a-1375-49d4-9a59-4e1dd21eab09",
   "metadata": {
    "tags": []
   },
   "source": [
    "#### Answer -"
   ]
  },
  {
   "cell_type": "markdown",
   "id": "39731d1f-f1de-4929-acbf-8aeda9b5e498",
   "metadata": {},
   "source": [
    "In Python, an iterator is an object that allows us to go to the next element\n",
    "automatically in a sequence and to get it.\n",
    "\n",
    "To initialize the iterator object, we use the iter() function. iter() function converts iterable data into iterator data and for iteration we use next() method. "
   ]
  },
  {
   "cell_type": "code",
   "execution_count": 7,
   "id": "2e2a8382-dae6-416f-ba9a-580e962227f1",
   "metadata": {},
   "outputs": [],
   "source": [
    "l = [2, 4, 6, 8, 10, 12, 14, 16, 18, 20]"
   ]
  },
  {
   "cell_type": "code",
   "execution_count": 8,
   "id": "6955eb0c-5d91-411c-9c92-31c5455b8002",
   "metadata": {},
   "outputs": [],
   "source": [
    "l1 = iter(l)"
   ]
  },
  {
   "cell_type": "code",
   "execution_count": 9,
   "id": "89284004-8bb0-4352-b7a1-d62a0de8f17b",
   "metadata": {},
   "outputs": [
    {
     "name": "stdout",
     "output_type": "stream",
     "text": [
      "2\n",
      "4\n",
      "6\n",
      "8\n",
      "10\n"
     ]
    }
   ],
   "source": [
    "for i in range(5):\n",
    "    print(next(l1))"
   ]
  },
  {
   "cell_type": "markdown",
   "id": "70c2b2b4-4975-4333-b650-f70afaf6e478",
   "metadata": {},
   "source": [
    "    "
   ]
  },
  {
   "cell_type": "markdown",
   "id": "c31a7690-ba07-4062-836f-410dde8b0628",
   "metadata": {},
   "source": [
    "Q4. What is a generator function in python? Why yield keyword is used? Give an example of a generator function."
   ]
  },
  {
   "cell_type": "markdown",
   "id": "3097177e-6f6c-4661-bf8b-0a2075e73dd4",
   "metadata": {},
   "source": [
    "#### Answer -\n"
   ]
  },
  {
   "cell_type": "markdown",
   "id": "f1bdf92e-8021-450e-aad8-f89c9805d522",
   "metadata": {},
   "source": [
    "In Python, the generator function continuously generates outcomes without holding everything in memory. yield is a special reserved keyword that helps in creating generator functions."
   ]
  },
  {
   "cell_type": "code",
   "execution_count": 12,
   "id": "8759fadd-5fa6-4c28-8701-466078ebb347",
   "metadata": {},
   "outputs": [],
   "source": [
    "def gen_fun(n):\n",
    "    a,b = 0,1\n",
    "    for i in range(n):\n",
    "        yield a\n",
    "        a,b = b, a+b"
   ]
  },
  {
   "cell_type": "code",
   "execution_count": 13,
   "id": "3e1717b5-f7c4-4f79-b2e3-fa03f858ebbf",
   "metadata": {},
   "outputs": [
    {
     "name": "stdout",
     "output_type": "stream",
     "text": [
      "0\n",
      "1\n",
      "1\n",
      "2\n",
      "3\n",
      "5\n",
      "8\n",
      "13\n",
      "21\n",
      "34\n",
      "55\n",
      "89\n",
      "144\n",
      "233\n",
      "377\n"
     ]
    }
   ],
   "source": [
    "for i in gen_fun(15):\n",
    "    print(i)"
   ]
  },
  {
   "cell_type": "markdown",
   "id": "8ac95cf8-c287-4c42-881f-1831a2fafa13",
   "metadata": {},
   "source": [
    "Q5. Create a generator function for prime numbers less than 1000. Use the next() method to print the first 20 prime numbers.\n",
    "#### Answer -"
   ]
  },
  {
   "cell_type": "code",
   "execution_count": 14,
   "id": "c96ea5f4-6bf6-4063-874a-bc4cf4df5620",
   "metadata": {},
   "outputs": [],
   "source": [
    "def prm_gf(n):\n",
    "    for i in range(n):\n",
    "        if i%2 != 0:\n",
    "            yield i"
   ]
  },
  {
   "cell_type": "code",
   "execution_count": 15,
   "id": "58cccf49-d1ff-4bcc-a448-5d0041d4dd53",
   "metadata": {},
   "outputs": [],
   "source": [
    "p_n = prm_gf(1000)"
   ]
  },
  {
   "cell_type": "code",
   "execution_count": 16,
   "id": "2242cf7b-aab9-4990-9941-81cb321423c4",
   "metadata": {},
   "outputs": [
    {
     "name": "stdout",
     "output_type": "stream",
     "text": [
      "1\n",
      "3\n",
      "5\n",
      "7\n",
      "9\n",
      "11\n",
      "13\n",
      "15\n",
      "17\n",
      "19\n",
      "21\n",
      "23\n",
      "25\n",
      "27\n",
      "29\n",
      "31\n",
      "33\n",
      "35\n",
      "37\n",
      "39\n"
     ]
    }
   ],
   "source": [
    "for i in range(20):\n",
    "    print(next(p_n))"
   ]
  },
  {
   "cell_type": "markdown",
   "id": "521afcc1-f272-4a36-9424-7bb96e355826",
   "metadata": {},
   "source": [
    "Q6. Write a python program to print the first 10 Fibonacci numbers using a while \n",
    "loop.\n",
    "#### Answer -"
   ]
  },
  {
   "cell_type": "code",
   "execution_count": 17,
   "id": "3393b37a-19c4-4a5a-b853-4c183b577027",
   "metadata": {},
   "outputs": [],
   "source": [
    "def gen_f():\n",
    "    a,b = 0,1\n",
    "    while True:\n",
    "        yield a\n",
    "        a,b = b, a+b"
   ]
  },
  {
   "cell_type": "code",
   "execution_count": 18,
   "id": "7e03748e-d229-4e9e-8c73-49b7b0552283",
   "metadata": {},
   "outputs": [],
   "source": [
    "fib = gen_f()"
   ]
  },
  {
   "cell_type": "code",
   "execution_count": 19,
   "id": "69a38b44-3d50-42c7-bbed-de6281a2d8d5",
   "metadata": {},
   "outputs": [
    {
     "name": "stdout",
     "output_type": "stream",
     "text": [
      "0\n",
      "1\n",
      "1\n",
      "2\n",
      "3\n",
      "5\n",
      "8\n",
      "13\n",
      "21\n",
      "34\n"
     ]
    }
   ],
   "source": [
    "for i in range(10):\n",
    "    print(next(fib))"
   ]
  },
  {
   "cell_type": "markdown",
   "id": "e5488f50-8b21-4cd3-ab09-ea06015cfe46",
   "metadata": {},
   "source": [
    "Q7. Write a List Comprehension to iterate through the given string: ‘pwskills’. \n",
    "Expected output: ['p', 'w', 's', 'k', 'i', 'l', 'l', 's']\n",
    "#### Answer -"
   ]
  },
  {
   "cell_type": "code",
   "execution_count": 1,
   "id": "110ebb5e-922a-4d70-bd67-c3c9e26b812e",
   "metadata": {},
   "outputs": [
    {
     "data": {
      "text/plain": [
       "['p', 'w', 's', 'k', 'i', 'l', 'l', 's']"
      ]
     },
     "execution_count": 1,
     "metadata": {},
     "output_type": "execute_result"
    }
   ],
   "source": [
    "s = 'pwskills'\n",
    "[i for i in s]"
   ]
  },
  {
   "cell_type": "markdown",
   "id": "66b73d2c-12d4-4cb3-95c2-797762a1bab8",
   "metadata": {},
   "source": [
    "Q8. Write a python program to check whether a given number is Palindrome or not using a while loop.\n",
    "#### Answer -"
   ]
  },
  {
   "cell_type": "markdown",
   "id": "b4d2d9d0-c6be-4f15-88ae-db2a53d55b9c",
   "metadata": {},
   "source": [
    "##### I am not able to solve this question."
   ]
  },
  {
   "cell_type": "markdown",
   "id": "e3673014-bcd5-45be-ade2-5626160455d0",
   "metadata": {},
   "source": [
    "     "
   ]
  },
  {
   "cell_type": "markdown",
   "id": "d600b348-a919-408f-a253-6fccf869c2ac",
   "metadata": {},
   "source": [
    "Q9. Write a code to print odd numbers from 1 to 100 using list comprehension.\n",
    "    \n",
    "Note: Use a list comprehension to create a list from 1 to 100 and use another List comprehension to filter out odd numbers.\n",
    "#### Answer -"
   ]
  },
  {
   "cell_type": "code",
   "execution_count": 2,
   "id": "4bdc9651-a783-4f2f-a6de-2796b3c5959c",
   "metadata": {},
   "outputs": [
    {
     "data": {
      "text/plain": [
       "[1,\n",
       " 2,\n",
       " 3,\n",
       " 4,\n",
       " 5,\n",
       " 6,\n",
       " 7,\n",
       " 8,\n",
       " 9,\n",
       " 10,\n",
       " 11,\n",
       " 12,\n",
       " 13,\n",
       " 14,\n",
       " 15,\n",
       " 16,\n",
       " 17,\n",
       " 18,\n",
       " 19,\n",
       " 20,\n",
       " 21,\n",
       " 22,\n",
       " 23,\n",
       " 24,\n",
       " 25,\n",
       " 26,\n",
       " 27,\n",
       " 28,\n",
       " 29,\n",
       " 30,\n",
       " 31,\n",
       " 32,\n",
       " 33,\n",
       " 34,\n",
       " 35,\n",
       " 36,\n",
       " 37,\n",
       " 38,\n",
       " 39,\n",
       " 40,\n",
       " 41,\n",
       " 42,\n",
       " 43,\n",
       " 44,\n",
       " 45,\n",
       " 46,\n",
       " 47,\n",
       " 48,\n",
       " 49,\n",
       " 50,\n",
       " 51,\n",
       " 52,\n",
       " 53,\n",
       " 54,\n",
       " 55,\n",
       " 56,\n",
       " 57,\n",
       " 58,\n",
       " 59,\n",
       " 60,\n",
       " 61,\n",
       " 62,\n",
       " 63,\n",
       " 64,\n",
       " 65,\n",
       " 66,\n",
       " 67,\n",
       " 68,\n",
       " 69,\n",
       " 70,\n",
       " 71,\n",
       " 72,\n",
       " 73,\n",
       " 74,\n",
       " 75,\n",
       " 76,\n",
       " 77,\n",
       " 78,\n",
       " 79,\n",
       " 80,\n",
       " 81,\n",
       " 82,\n",
       " 83,\n",
       " 84,\n",
       " 85,\n",
       " 86,\n",
       " 87,\n",
       " 88,\n",
       " 89,\n",
       " 90,\n",
       " 91,\n",
       " 92,\n",
       " 93,\n",
       " 94,\n",
       " 95,\n",
       " 96,\n",
       " 97,\n",
       " 98,\n",
       " 99]"
      ]
     },
     "execution_count": 2,
     "metadata": {},
     "output_type": "execute_result"
    }
   ],
   "source": [
    "[i for i in range(1,100)]"
   ]
  },
  {
   "cell_type": "code",
   "execution_count": 3,
   "id": "f1d0e182-66ed-4e47-b371-66dfd70ed274",
   "metadata": {},
   "outputs": [
    {
     "data": {
      "text/plain": [
       "[1,\n",
       " 3,\n",
       " 5,\n",
       " 7,\n",
       " 9,\n",
       " 11,\n",
       " 13,\n",
       " 15,\n",
       " 17,\n",
       " 19,\n",
       " 21,\n",
       " 23,\n",
       " 25,\n",
       " 27,\n",
       " 29,\n",
       " 31,\n",
       " 33,\n",
       " 35,\n",
       " 37,\n",
       " 39,\n",
       " 41,\n",
       " 43,\n",
       " 45,\n",
       " 47,\n",
       " 49,\n",
       " 51,\n",
       " 53,\n",
       " 55,\n",
       " 57,\n",
       " 59,\n",
       " 61,\n",
       " 63,\n",
       " 65,\n",
       " 67,\n",
       " 69,\n",
       " 71,\n",
       " 73,\n",
       " 75,\n",
       " 77,\n",
       " 79,\n",
       " 81,\n",
       " 83,\n",
       " 85,\n",
       " 87,\n",
       " 89,\n",
       " 91,\n",
       " 93,\n",
       " 95,\n",
       " 97,\n",
       " 99]"
      ]
     },
     "execution_count": 3,
     "metadata": {},
     "output_type": "execute_result"
    }
   ],
   "source": [
    "[i for i in range(1,100) if i%2 != 0]"
   ]
  },
  {
   "cell_type": "code",
   "execution_count": null,
   "id": "78950aa2-efb9-4e23-a81a-7a722c63d95d",
   "metadata": {},
   "outputs": [],
   "source": []
  }
 ],
 "metadata": {
  "kernelspec": {
   "display_name": "Python 3 (ipykernel)",
   "language": "python",
   "name": "python3"
  },
  "language_info": {
   "codemirror_mode": {
    "name": "ipython",
    "version": 3
   },
   "file_extension": ".py",
   "mimetype": "text/x-python",
   "name": "python",
   "nbconvert_exporter": "python",
   "pygments_lexer": "ipython3",
   "version": "3.10.8"
  }
 },
 "nbformat": 4,
 "nbformat_minor": 5
}
