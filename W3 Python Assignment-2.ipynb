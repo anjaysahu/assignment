{
 "cells": [
  {
   "cell_type": "markdown",
   "id": "0b940c09-755d-4e39-b304-36792278b818",
   "metadata": {},
   "source": [
    "Q1. Create a python program to sort the given list of tuples based on integer value using a lambda function.  \n",
    "\n",
    "[('Sachin Tendulkar', 34357), ('Ricky Ponting', 27483), ('Jack Kallis', 25534), ('Virat Kohli', 24936)]"
   ]
  },
  {
   "cell_type": "markdown",
   "id": "377c58aa-6310-4d5e-9412-7bd2499046fb",
   "metadata": {},
   "source": [
    "#### Answer - \n",
    "I am not able to understand this question because I have not done this\n",
    "kind of study yet so please email me the solution and explain it."
   ]
  },
  {
   "cell_type": "markdown",
   "id": "aec58285-c1f0-4166-abe7-9a1ee02b7756",
   "metadata": {},
   "source": [
    "                    "
   ]
  },
  {
   "cell_type": "markdown",
   "id": "ab0032e1-478d-4a8a-b64e-83f1f80d84b0",
   "metadata": {},
   "source": [
    "Q2. Write a Python Program to find the squares of all the numbers in the given list of integers using lambda and map functions.\n",
    "\n",
    "[1, 2, 3, 4, 5, 6, 7, 8, 9, 10]"
   ]
  },
  {
   "cell_type": "markdown",
   "id": "4429ad3e-25d3-4196-9a79-2135394f65be",
   "metadata": {},
   "source": [
    "#### Answer - "
   ]
  },
  {
   "cell_type": "code",
   "execution_count": 1,
   "id": "49b41b02-5fe8-4740-9366-e7ad2c8f9ccf",
   "metadata": {},
   "outputs": [],
   "source": [
    "l = [1, 2, 3, 4, 5, 6, 7, 8, 9, 10]"
   ]
  },
  {
   "cell_type": "code",
   "execution_count": 2,
   "id": "cc8efd79-7d7a-4835-9da1-067cb6f585c9",
   "metadata": {},
   "outputs": [
    {
     "data": {
      "text/plain": [
       "[1, 4, 9, 16, 25, 36, 49, 64, 81, 100]"
      ]
     },
     "execution_count": 2,
     "metadata": {},
     "output_type": "execute_result"
    }
   ],
   "source": [
    "list(map(lambda x:x**2, l ))"
   ]
  },
  {
   "cell_type": "markdown",
   "id": "ae8ef1ff-36f9-4c20-99e9-84e5d438c371",
   "metadata": {},
   "source": [
    "Q3. Write a python program to convert the given list of integers into a tuple of strings. Use map and lambda functions\n",
    "\n",
    "Given String: [1, 2, 3, 4, 5, 6, 7, 8, 9, 10]  \n",
    "Expected output: ('1', '2', '3', '4', '5', '6', '7', '8', '9', '10')"
   ]
  },
  {
   "cell_type": "markdown",
   "id": "b14e888a-cd20-4827-9928-c73dfda62ebf",
   "metadata": {},
   "source": [
    "#### Answer - "
   ]
  },
  {
   "cell_type": "code",
   "execution_count": 3,
   "id": "a98e793f-34c7-4200-b292-0f809654cdcb",
   "metadata": {},
   "outputs": [],
   "source": [
    "ls = [1, 2, 3, 4, 5, 6, 7, 8, 9, 10]"
   ]
  },
  {
   "cell_type": "code",
   "execution_count": 4,
   "id": "533044a1-6e10-4541-ac9f-81e4eb0e4cff",
   "metadata": {},
   "outputs": [
    {
     "data": {
      "text/plain": [
       "('1', '2', '3', '4', '5', '6', '7', '8', '9', '10')"
      ]
     },
     "execution_count": 4,
     "metadata": {},
     "output_type": "execute_result"
    }
   ],
   "source": [
    "tuple(map(lambda x : str(x), ls))"
   ]
  },
  {
   "cell_type": "markdown",
   "id": "85e6307e-0465-4f24-a59e-0f17ca70f17d",
   "metadata": {},
   "source": [
    "Q4. Write a python program using reduce function to compute the product of a list containing numbers\n",
    "from 1 to 25."
   ]
  },
  {
   "cell_type": "markdown",
   "id": "f213abde-5bb2-4364-a515-a63bf1ee07c8",
   "metadata": {},
   "source": [
    "#### Answer - "
   ]
  },
  {
   "cell_type": "code",
   "execution_count": 5,
   "id": "348e0e19-888f-4c94-a8ba-27edbdf71e07",
   "metadata": {},
   "outputs": [],
   "source": [
    "from functools import reduce"
   ]
  },
  {
   "cell_type": "code",
   "execution_count": 6,
   "id": "65da2e1b-ddb3-43ce-a97e-b4b7703dfffa",
   "metadata": {},
   "outputs": [
    {
     "data": {
      "text/plain": [
       "15511210043330985984000000"
      ]
     },
     "execution_count": 6,
     "metadata": {},
     "output_type": "execute_result"
    }
   ],
   "source": [
    "reduce(lambda x,y : x*y , range(1,26))"
   ]
  },
  {
   "cell_type": "markdown",
   "id": "5cc4423b-b573-4ad6-ae02-882a5d57ae7f",
   "metadata": {},
   "source": [
    "Q5. Write a python program to filter the numbers in a given list that are divisible by 2 and 3 using the filter function.\n",
    "\n",
    "[2, 3, 6, 9, 27, 60, 90, 120, 55, 46]\n",
    "#### Answer - "
   ]
  },
  {
   "cell_type": "code",
   "execution_count": 7,
   "id": "75fea370-42b9-4306-a7ca-b8dfc0bf7c92",
   "metadata": {},
   "outputs": [],
   "source": [
    "l = [2, 3, 6, 9, 27, 60, 90, 120, 55, 46]"
   ]
  },
  {
   "cell_type": "code",
   "execution_count": 8,
   "id": "c3a30601-8317-46c3-b7d9-92630716a118",
   "metadata": {},
   "outputs": [
    {
     "data": {
      "text/plain": [
       "[2, 6, 60, 90, 120, 46]"
      ]
     },
     "execution_count": 8,
     "metadata": {},
     "output_type": "execute_result"
    }
   ],
   "source": [
    "list(filter(lambda x : x%2 == 0,l)) \n",
    "# this filter function is for those numbers who divisile by 2"
   ]
  },
  {
   "cell_type": "code",
   "execution_count": 9,
   "id": "9fccf2c8-ee3e-40bf-975d-cfef07342504",
   "metadata": {},
   "outputs": [
    {
     "data": {
      "text/plain": [
       "[3, 6, 9, 27, 60, 90, 120]"
      ]
     },
     "execution_count": 9,
     "metadata": {},
     "output_type": "execute_result"
    }
   ],
   "source": [
    "list(filter(lambda x : x%3 == 0,l))\n",
    "# this filter function is for those numbers who divisile by 3"
   ]
  },
  {
   "cell_type": "markdown",
   "id": "5b491a88-d3aa-4709-94f5-81a09c95d766",
   "metadata": {},
   "source": [
    "Q6. Write a python program to find palindromes in the given list of strings using lambda and filter function.\n",
    "\n",
    "['python', 'php', 'aba', 'radar', 'level']\n",
    "#### Answer -"
   ]
  },
  {
   "cell_type": "code",
   "execution_count": 10,
   "id": "f666483e-d3ba-4a41-a994-5a7a3ca03d6a",
   "metadata": {},
   "outputs": [],
   "source": [
    "l = ['python', 'php', 'aba', 'radar', 'level']"
   ]
  },
  {
   "cell_type": "code",
   "execution_count": 11,
   "id": "8ec3fc21-28c9-415c-b222-8bdf6ab08d1c",
   "metadata": {},
   "outputs": [
    {
     "data": {
      "text/plain": [
       "['php', 'aba', 'radar', 'level']"
      ]
     },
     "execution_count": 11,
     "metadata": {},
     "output_type": "execute_result"
    }
   ],
   "source": [
    "list(filter(lambda x : x == x[::-1],l))"
   ]
  },
  {
   "cell_type": "code",
   "execution_count": null,
   "id": "fc24817d-4669-40b6-b1f5-676ab2361c21",
   "metadata": {},
   "outputs": [],
   "source": []
  }
 ],
 "metadata": {
  "kernelspec": {
   "display_name": "Python 3 (ipykernel)",
   "language": "python",
   "name": "python3"
  },
  "language_info": {
   "codemirror_mode": {
    "name": "ipython",
    "version": 3
   },
   "file_extension": ".py",
   "mimetype": "text/x-python",
   "name": "python",
   "nbconvert_exporter": "python",
   "pygments_lexer": "ipython3",
   "version": "3.10.8"
  }
 },
 "nbformat": 4,
 "nbformat_minor": 5
}
