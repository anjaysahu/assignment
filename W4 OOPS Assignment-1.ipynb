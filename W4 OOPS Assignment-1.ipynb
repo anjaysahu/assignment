{
 "cells": [
  {
   "cell_type": "markdown",
   "id": "ba600ee8-5807-40ba-9863-4aea8f27c783",
   "metadata": {},
   "source": [
    "Q1. Explain Class and Object with respect to Object-Oriented Programming. Give a suitable example."
   ]
  },
  {
   "cell_type": "markdown",
   "id": "e541c801-ab5c-4f70-ae1c-357dd5b583a7",
   "metadata": {},
   "source": [
    "#### Answer - "
   ]
  },
  {
   "cell_type": "markdown",
   "id": "d1c2a57f-f209-40cc-af60-840e26c8474f",
   "metadata": {},
   "source": [
    "The real-world entity is the Object and the classification of the real-world entity is the Class."
   ]
  },
  {
   "cell_type": "code",
   "execution_count": 1,
   "id": "555d2e9f-9f14-4e57-ae5c-bff3855790b2",
   "metadata": {},
   "outputs": [
    {
     "data": {
      "text/plain": [
       "(55, 'ab')"
      ]
     },
     "execution_count": 1,
     "metadata": {},
     "output_type": "execute_result"
    }
   ],
   "source": [
    "55, \"ab\"  "
   ]
  },
  {
   "cell_type": "code",
   "execution_count": 2,
   "id": "070a0184-c2c4-4380-9b1e-ac20e7b2977a",
   "metadata": {},
   "outputs": [
    {
     "name": "stdout",
     "output_type": "stream",
     "text": [
      "<class 'int'>\n"
     ]
    }
   ],
   "source": [
    "print(type(55))"
   ]
  },
  {
   "cell_type": "code",
   "execution_count": 3,
   "id": "4784d5b7-9c06-4036-b140-f54065192ba6",
   "metadata": {},
   "outputs": [
    {
     "name": "stdout",
     "output_type": "stream",
     "text": [
      "<class 'str'>\n"
     ]
    }
   ],
   "source": [
    "print(type(\"ab\"))"
   ]
  },
  {
   "cell_type": "markdown",
   "id": "85fd3c04-bee1-4e7d-ba01-1d5df6f3abe9",
   "metadata": {},
   "source": [
    "55 and \"ab\"    is the real-world entity which means this is the object but their classification is different. 55 is an integer number and all integer numbers come into the integer class and when anything is written inside \" \" or ' ' codes that comes into the string class."
   ]
  },
  {
   "cell_type": "markdown",
   "id": "af694dbf-eab0-4274-ab90-6f4c67b26782",
   "metadata": {},
   "source": [
    "       "
   ]
  },
  {
   "cell_type": "markdown",
   "id": "1bd36ce7-a13c-4af8-889f-b9ebc78a8c68",
   "metadata": {},
   "source": [
    "Q2. Name the four pillars of OOPs."
   ]
  },
  {
   "cell_type": "markdown",
   "id": "9f77ea12-a38f-43d9-b44f-52cac2dd0390",
   "metadata": {},
   "source": [
    "#### Answer - "
   ]
  },
  {
   "cell_type": "markdown",
   "id": "7b7c269a-11ef-4723-b4ac-39acdc136bda",
   "metadata": {},
   "source": [
    " - Abstraction.  \n",
    " - Encapsulation.  \n",
    " - Inheritance.  \n",
    " - Polymorphism.            "
   ]
  },
  {
   "cell_type": "markdown",
   "id": "094fbc47-47cd-4bf6-82eb-c71496ad51e6",
   "metadata": {},
   "source": [
    "         "
   ]
  },
  {
   "cell_type": "markdown",
   "id": "d64130f2-1334-4004-9573-86ed0bae327a",
   "metadata": {},
   "source": [
    "Q3. Explain why the     __ init __() function is used. Give a suitable example."
   ]
  },
  {
   "cell_type": "markdown",
   "id": "ced9585c-57a4-4463-a7ff-2cd871c71734",
   "metadata": {},
   "source": [
    "#### Answer - "
   ]
  },
  {
   "cell_type": "markdown",
   "id": "7e6224c0-7045-4f24-b949-40d3132bf679",
   "metadata": {},
   "source": [
    "When we need to pass data from the user to a class, we use the __ init __() function."
   ]
  },
  {
   "cell_type": "code",
   "execution_count": 4,
   "id": "4385f61c-764c-432a-a804-8ecb09cb6fe2",
   "metadata": {},
   "outputs": [],
   "source": [
    "class exm:\n",
    "    \n",
    "    def __init__(self, name, number):\n",
    "        self.user_name = name\n",
    "        self.user_number = number\n",
    "        \n",
    "    def user_data(self):\n",
    "        return self.user_name, self.user_number"
   ]
  },
  {
   "cell_type": "code",
   "execution_count": 5,
   "id": "48b79f3a-93f8-4879-bdbf-38bd16fb5426",
   "metadata": {},
   "outputs": [],
   "source": [
    "a  = exm(\"anjay\", 19872563140)"
   ]
  },
  {
   "cell_type": "code",
   "execution_count": 6,
   "id": "8c622a05-6c9f-40fd-a039-c90d503c6473",
   "metadata": {},
   "outputs": [
    {
     "data": {
      "text/plain": [
       "('anjay', 19872563140)"
      ]
     },
     "execution_count": 6,
     "metadata": {},
     "output_type": "execute_result"
    }
   ],
   "source": [
    "a.user_data()"
   ]
  },
  {
   "cell_type": "markdown",
   "id": "2b634f67-b136-4f3b-98e6-f65189da6b61",
   "metadata": {},
   "source": [
    "    "
   ]
  },
  {
   "cell_type": "markdown",
   "id": "9a881252-c7ce-474a-b7d5-3a7f5f1b9544",
   "metadata": {},
   "source": [
    "Q4. Why self is used in OOPs?"
   ]
  },
  {
   "cell_type": "markdown",
   "id": "8bfda35d-ad8f-4d48-b96d-33e7b208ff80",
   "metadata": {},
   "source": [
    "#### Answer - "
   ]
  },
  {
   "cell_type": "markdown",
   "id": "6ad41f53-8898-4849-8895-bdd7ba7fc6ee",
   "metadata": {},
   "source": [
    "In OOPS, self is a reference for methods, variables, etc. available in their class."
   ]
  },
  {
   "cell_type": "markdown",
   "id": "fc030b06-1834-4547-9266-fe839ef2b824",
   "metadata": {},
   "source": [
    "               "
   ]
  },
  {
   "cell_type": "markdown",
   "id": "b5e96c17-c1f5-45ad-9882-ff22295905b9",
   "metadata": {},
   "source": [
    "Q5. What is inheritance? Give an example for each type of inheritance."
   ]
  },
  {
   "cell_type": "markdown",
   "id": "54cb7ba5-2252-4072-9ae4-aaa826be97a5",
   "metadata": {},
   "source": [
    "#### Answer - "
   ]
  },
  {
   "cell_type": "markdown",
   "id": "1a4655b4-2234-4d57-b4af-8852886edefb",
   "metadata": {},
   "source": [
    "Accessing the properties of one class in another class is called inheritance. there are 5 type of inheritance but we have studied 3 type till now -   \n",
    "- Single inheritance\n",
    "- Multiple inheritance \n",
    "- Multilevel inheritance"
   ]
  },
  {
   "cell_type": "markdown",
   "id": "71f02bda-a1d1-45c9-a468-047ba5f15edc",
   "metadata": {},
   "source": [
    "##### Example of Single inheritance -"
   ]
  },
  {
   "cell_type": "code",
   "execution_count": 7,
   "id": "b185a143-e445-4e5f-99ea-47eddddc5c30",
   "metadata": {},
   "outputs": [],
   "source": [
    "class sng_1:\n",
    "    \n",
    "    def sng_p1(self):\n",
    "        return \"this is sng_1 method\""
   ]
  },
  {
   "cell_type": "code",
   "execution_count": 8,
   "id": "7c3839f7-4e18-4037-bf22-01fb74ac29d7",
   "metadata": {},
   "outputs": [],
   "source": [
    "class sng_2(sng_1):\n",
    "    pass"
   ]
  },
  {
   "cell_type": "code",
   "execution_count": 9,
   "id": "b7ed0410-e4fa-4007-b574-7938e2616ec8",
   "metadata": {},
   "outputs": [],
   "source": [
    "sng_ins  = sng_2() "
   ]
  },
  {
   "cell_type": "code",
   "execution_count": 10,
   "id": "d52b0651-ddab-4bb0-8547-a100951ce2f1",
   "metadata": {},
   "outputs": [
    {
     "data": {
      "text/plain": [
       "'this is sng_1 method'"
      ]
     },
     "execution_count": 10,
     "metadata": {},
     "output_type": "execute_result"
    }
   ],
   "source": [
    "sng_ins.sng_p1()"
   ]
  },
  {
   "cell_type": "markdown",
   "id": "49fc7168-0be5-4b5c-8e61-d43df6a65b83",
   "metadata": {},
   "source": [
    "##### Example of Multiple inheritance -"
   ]
  },
  {
   "cell_type": "code",
   "execution_count": 11,
   "id": "530baeb6-3278-4374-9809-fb7b041f3c67",
   "metadata": {},
   "outputs": [],
   "source": [
    "class mtp_1:\n",
    "    \n",
    "    def mtp_p1(self):\n",
    "        return \"this is mtp_1 method\""
   ]
  },
  {
   "cell_type": "code",
   "execution_count": 12,
   "id": "7734abc3-84aa-47a1-8eb0-8df3f6682f05",
   "metadata": {},
   "outputs": [],
   "source": [
    "class mtp_2:\n",
    "    \n",
    "    def mtp_p2(self):\n",
    "        return \"this is mtp_2 method\""
   ]
  },
  {
   "cell_type": "code",
   "execution_count": 13,
   "id": "04ed9328-4adb-484a-aeb5-c5d6b0084bb7",
   "metadata": {},
   "outputs": [],
   "source": [
    "class mtp_3(mtp_1, mtp_2): # Multiple Inheritance\n",
    "    pass"
   ]
  },
  {
   "cell_type": "code",
   "execution_count": 14,
   "id": "8c128e6d-468f-4d42-a49d-0fbb4891d417",
   "metadata": {},
   "outputs": [],
   "source": [
    "mtp_ins = mtp_3()"
   ]
  },
  {
   "cell_type": "code",
   "execution_count": 15,
   "id": "a0307c52-fa5c-4019-8a23-9186460f093e",
   "metadata": {},
   "outputs": [
    {
     "data": {
      "text/plain": [
       "'this is mtp_1 method'"
      ]
     },
     "execution_count": 15,
     "metadata": {},
     "output_type": "execute_result"
    }
   ],
   "source": [
    "mtp_ins.mtp_p1()"
   ]
  },
  {
   "cell_type": "code",
   "execution_count": 16,
   "id": "eb838dd7-16ad-45d8-bea1-fa7dd0fd9cb7",
   "metadata": {},
   "outputs": [
    {
     "data": {
      "text/plain": [
       "'this is mtp_2 method'"
      ]
     },
     "execution_count": 16,
     "metadata": {},
     "output_type": "execute_result"
    }
   ],
   "source": [
    "mtp_ins.mtp_p2()"
   ]
  },
  {
   "cell_type": "markdown",
   "id": "fd2a3075-a1f1-476c-bbd4-977ae4f57bd3",
   "metadata": {},
   "source": [
    "      "
   ]
  },
  {
   "cell_type": "markdown",
   "id": "fd99ebf8-f24f-4a06-b492-b7fae66e005d",
   "metadata": {},
   "source": [
    "##### Example of Multilevel inheritance -"
   ]
  },
  {
   "cell_type": "code",
   "execution_count": 17,
   "id": "dd0a7430-ede3-4830-8554-f5d0da2157e5",
   "metadata": {},
   "outputs": [],
   "source": [
    "class mtlv_1:\n",
    "    \n",
    "    def mtlv_p1(self):\n",
    "        return \"this is mtlv_1 method\""
   ]
  },
  {
   "cell_type": "code",
   "execution_count": 18,
   "id": "d557ec68-c06d-4b94-a143-69495a2bb24a",
   "metadata": {},
   "outputs": [],
   "source": [
    "class mtlv_2(mtlv_1):\n",
    "    \n",
    "    def mtlv_p2(self):\n",
    "        return \"this is mtlv_2 method\""
   ]
  },
  {
   "cell_type": "code",
   "execution_count": 19,
   "id": "e11ef33b-8d83-4e48-8a63-f28548776017",
   "metadata": {},
   "outputs": [],
   "source": [
    "class mtlv_3(mtlv_2 ): # Multilevel Inheritance\n",
    "    pass"
   ]
  },
  {
   "cell_type": "code",
   "execution_count": 20,
   "id": "a9adc7f8-e187-4679-8c42-8a7bf1ccb525",
   "metadata": {},
   "outputs": [],
   "source": [
    "mtlv_ins = mtlv_3()"
   ]
  },
  {
   "cell_type": "code",
   "execution_count": 21,
   "id": "c988191e-9090-477f-aaab-d04966ef9f83",
   "metadata": {},
   "outputs": [
    {
     "data": {
      "text/plain": [
       "'this is mtlv_1 method'"
      ]
     },
     "execution_count": 21,
     "metadata": {},
     "output_type": "execute_result"
    }
   ],
   "source": [
    "mtlv_ins.mtlv_p1()"
   ]
  },
  {
   "cell_type": "code",
   "execution_count": 22,
   "id": "f2e60d5e-6fa8-4686-b3ab-a3d4bc1699ff",
   "metadata": {},
   "outputs": [
    {
     "data": {
      "text/plain": [
       "'this is mtlv_2 method'"
      ]
     },
     "execution_count": 22,
     "metadata": {},
     "output_type": "execute_result"
    }
   ],
   "source": [
    "mtlv_ins.mtlv_p2()"
   ]
  },
  {
   "cell_type": "code",
   "execution_count": null,
   "id": "9d121a91-350c-4fb2-908d-b1bc5d14651d",
   "metadata": {},
   "outputs": [],
   "source": []
  },
  {
   "cell_type": "code",
   "execution_count": null,
   "id": "0a8617d9-e6cd-4d58-9828-575122453009",
   "metadata": {},
   "outputs": [],
   "source": []
  }
 ],
 "metadata": {
  "kernelspec": {
   "display_name": "Python 3 (ipykernel)",
   "language": "python",
   "name": "python3"
  },
  "language_info": {
   "codemirror_mode": {
    "name": "ipython",
    "version": 3
   },
   "file_extension": ".py",
   "mimetype": "text/x-python",
   "name": "python",
   "nbconvert_exporter": "python",
   "pygments_lexer": "ipython3",
   "version": "3.10.8"
  }
 },
 "nbformat": 4,
 "nbformat_minor": 5
}
