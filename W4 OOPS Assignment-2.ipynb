{
 "cells": [
  {
   "cell_type": "markdown",
   "id": "d988713b-5e81-4d64-b1f9-41a27333e038",
   "metadata": {},
   "source": [
    "Q1. What is Abstraction in OOps? Explain with an example."
   ]
  },
  {
   "cell_type": "markdown",
   "id": "69449118-4c50-4e98-8b85-14ff4d8e1fd2",
   "metadata": {},
   "source": [
    "#### Answer -"
   ]
  },
  {
   "cell_type": "markdown",
   "id": "5d83f8b3-3417-40c2-9272-1edff67af622",
   "metadata": {},
   "source": [
    "When we have already created a class of code structure to write new code, that is called an abstraction."
   ]
  },
  {
   "cell_type": "code",
   "execution_count": 1,
   "id": "0cf782d0-a0e4-4ec2-a3e5-1b6b47e43991",
   "metadata": {},
   "outputs": [],
   "source": [
    "import abc\n",
    "class student_details:\n",
    "    \n",
    "    @abc.abstractmethod\n",
    "    def st_name(self):\n",
    "        pass\n",
    "    \n",
    "    @abc.abstractmethod\n",
    "    def st_age(self):\n",
    "        pass"
   ]
  },
  {
   "cell_type": "code",
   "execution_count": 2,
   "id": "7004be53-0b13-4925-8150-7d520b04fe59",
   "metadata": {},
   "outputs": [],
   "source": [
    "class pw_student(student_details):\n",
    "    \n",
    "    def st_name(self):\n",
    "        return \"this method will ask student name\"\n",
    "    \n",
    "    def st_age(self):\n",
    "        return \"this method will ask student age\""
   ]
  },
  {
   "cell_type": "code",
   "execution_count": 3,
   "id": "83b391c1-88b4-4de7-9325-639d3ff3a78e",
   "metadata": {},
   "outputs": [],
   "source": [
    "pwst = pw_student()"
   ]
  },
  {
   "cell_type": "code",
   "execution_count": 4,
   "id": "2fb82725-bdba-43c1-b9f3-ce683316eda4",
   "metadata": {},
   "outputs": [
    {
     "data": {
      "text/plain": [
       "'this method will ask student name'"
      ]
     },
     "execution_count": 4,
     "metadata": {},
     "output_type": "execute_result"
    }
   ],
   "source": [
    "pwst.st_name()"
   ]
  },
  {
   "cell_type": "code",
   "execution_count": 5,
   "id": "3b09a429-78cc-4744-a999-9726473b3f52",
   "metadata": {},
   "outputs": [
    {
     "data": {
      "text/plain": [
       "'this method will ask student age'"
      ]
     },
     "execution_count": 5,
     "metadata": {},
     "output_type": "execute_result"
    }
   ],
   "source": [
    "pwst.st_age()"
   ]
  },
  {
   "cell_type": "markdown",
   "id": "3973b213-3394-4960-8c9e-eaa5a6020854",
   "metadata": {},
   "source": [
    "        "
   ]
  },
  {
   "cell_type": "markdown",
   "id": "b5899ddd-ef1f-4c99-944e-f91371ce015b",
   "metadata": {},
   "source": [
    "          "
   ]
  },
  {
   "cell_type": "markdown",
   "id": "bf0a3682-9437-44cc-ab9b-8e1f166e09d6",
   "metadata": {},
   "source": [
    "Q2. Differentiate between Abstraction and Encapsulation. Explain with an example."
   ]
  },
  {
   "cell_type": "markdown",
   "id": "2aa227c1-d90f-46e7-8550-b6883e9c82d2",
   "metadata": {},
   "source": [
    "#### Answer -"
   ]
  },
  {
   "cell_type": "markdown",
   "id": "38acc9c5-c114-415f-ae60-95f5010b35ef",
   "metadata": {},
   "source": [
    "In abstraction, we already create a class of the code structure to write new code and in encapsulation, we hide the structure available inside the class from the user so that he cannot change the values of the structure."
   ]
  },
  {
   "cell_type": "markdown",
   "id": "fb4d320d-1f90-4955-9dfe-0781acadb4b1",
   "metadata": {},
   "source": [
    "      "
   ]
  },
  {
   "cell_type": "markdown",
   "id": "9d8d9941-4014-43e5-be4e-c42425ff6871",
   "metadata": {},
   "source": [
    "##### Abstraction example -"
   ]
  },
  {
   "cell_type": "code",
   "execution_count": 6,
   "id": "e732afef-a4bd-44c5-9339-0a7540e5d99f",
   "metadata": {},
   "outputs": [],
   "source": [
    "import abc\n",
    "class student_details:\n",
    "    \n",
    "    @abc.abstractmethod\n",
    "    def st_name():\n",
    "        pass\n",
    "    \n",
    "    @abc.abstractmethod\n",
    "    def st_age():\n",
    "        pass"
   ]
  },
  {
   "cell_type": "code",
   "execution_count": 7,
   "id": "ea9caf72-a9e8-49d3-8f35-30ce60a8b658",
   "metadata": {},
   "outputs": [],
   "source": [
    "class pw_student(student_details):\n",
    "    \n",
    "    def st_name(self):\n",
    "        return \"this method will ask student name\"\n",
    "    \n",
    "    def st_age(self):\n",
    "        return \"this method will ask student age\""
   ]
  },
  {
   "cell_type": "code",
   "execution_count": 8,
   "id": "56021c44-aa2d-4384-a5ba-7ff95e7a680a",
   "metadata": {},
   "outputs": [],
   "source": [
    "pwst = pw_student()"
   ]
  },
  {
   "cell_type": "code",
   "execution_count": 9,
   "id": "cb3b456b-aac7-4a66-8dc5-b6afbd5aafa7",
   "metadata": {},
   "outputs": [
    {
     "data": {
      "text/plain": [
       "'this method will ask student name'"
      ]
     },
     "execution_count": 9,
     "metadata": {},
     "output_type": "execute_result"
    }
   ],
   "source": [
    "pwst.st_name()"
   ]
  },
  {
   "cell_type": "code",
   "execution_count": 10,
   "id": "5f2de404-92aa-482d-9d86-b10580874216",
   "metadata": {},
   "outputs": [
    {
     "data": {
      "text/plain": [
       "'this method will ask student age'"
      ]
     },
     "execution_count": 10,
     "metadata": {},
     "output_type": "execute_result"
    }
   ],
   "source": [
    "pwst.st_age()"
   ]
  },
  {
   "cell_type": "markdown",
   "id": "c4e652b7-d7a9-4450-847c-90bc697b46ce",
   "metadata": {},
   "source": [
    "      "
   ]
  },
  {
   "cell_type": "markdown",
   "id": "d1308120-9b25-4a8e-a04c-bed1debb8e16",
   "metadata": {},
   "source": [
    "##### Encapsulation example -"
   ]
  },
  {
   "cell_type": "code",
   "execution_count": 11,
   "id": "dcc05a4d-19f5-4419-b825-579353ae13d2",
   "metadata": {},
   "outputs": [],
   "source": [
    "class car:\n",
    "    \n",
    "    def __init__(self, name, mileage, top_speed):\n",
    "        self.c_name = name\n",
    "        self.c_mileage = mileage\n",
    "        self.c_speed = top_speed"
   ]
  },
  {
   "cell_type": "code",
   "execution_count": 12,
   "id": "fecf55d2-61db-4dec-983a-3d49455d2992",
   "metadata": {},
   "outputs": [],
   "source": [
    "cr = car(\"tata\", 20 ,120)"
   ]
  },
  {
   "cell_type": "code",
   "execution_count": 13,
   "id": "43451c05-a894-4dfb-8687-bba92cbdd715",
   "metadata": {},
   "outputs": [
    {
     "data": {
      "text/plain": [
       "'tata'"
      ]
     },
     "execution_count": 13,
     "metadata": {},
     "output_type": "execute_result"
    }
   ],
   "source": [
    "cr.c_name"
   ]
  },
  {
   "cell_type": "code",
   "execution_count": 14,
   "id": "d7e0bde2-e162-40d3-b17e-8c45e18eac74",
   "metadata": {},
   "outputs": [],
   "source": [
    "cr.c_name = \"xyz\""
   ]
  },
  {
   "cell_type": "code",
   "execution_count": 15,
   "id": "99c14e6f-8b9a-454b-bf9a-972644700655",
   "metadata": {},
   "outputs": [
    {
     "data": {
      "text/plain": [
       "'xyz'"
      ]
     },
     "execution_count": 15,
     "metadata": {},
     "output_type": "execute_result"
    }
   ],
   "source": [
    "cr.c_name  # Here user seen the class stucture and chenged the value."
   ]
  },
  {
   "cell_type": "markdown",
   "id": "a5d00ee1-983e-4222-91ce-abcc286f8753",
   "metadata": {},
   "source": [
    "       "
   ]
  },
  {
   "cell_type": "markdown",
   "id": "50e7855a-6167-407d-998d-6c7857e58a2e",
   "metadata": {},
   "source": [
    "      "
   ]
  },
  {
   "cell_type": "code",
   "execution_count": 16,
   "id": "5c778702-0397-416d-9fd9-aa2a8d39270a",
   "metadata": {},
   "outputs": [],
   "source": [
    "class car_2 :\n",
    "    \n",
    "    def __init__(self, name, mileage, top_speed):\n",
    "        self.__c_name = name\n",
    "        self.__c_mileage = mileage\n",
    "        self.__c_speed = top_speed"
   ]
  },
  {
   "cell_type": "code",
   "execution_count": 17,
   "id": "6641cb65-a6aa-4c19-baa9-03f5e9f06d73",
   "metadata": {},
   "outputs": [],
   "source": [
    "cr_2 = car_2(\"tata\", 20 ,120)"
   ]
  },
  {
   "cell_type": "code",
   "execution_count": 18,
   "id": "41b7f57e-14a9-40de-adfc-647bd94643a0",
   "metadata": {},
   "outputs": [
    {
     "ename": "SyntaxError",
     "evalue": "invalid syntax (2294732133.py, line 1)",
     "output_type": "error",
     "traceback": [
      "\u001b[0;36m  Cell \u001b[0;32mIn[18], line 1\u001b[0;36m\u001b[0m\n\u001b[0;31m    cr_2.     # But here the user cannot even see the structure.\u001b[0m\n\u001b[0m              ^\u001b[0m\n\u001b[0;31mSyntaxError\u001b[0m\u001b[0;31m:\u001b[0m invalid syntax\n"
     ]
    }
   ],
   "source": [
    "cr_2.     # But here the user cannot even see the structure."
   ]
  },
  {
   "cell_type": "markdown",
   "id": "130df144-3303-46cf-90d1-da03bfe0e2a2",
   "metadata": {},
   "source": [
    "      "
   ]
  },
  {
   "cell_type": "markdown",
   "id": "11d29cfa-5de6-4db8-8eb0-601983d1f83c",
   "metadata": {},
   "source": [
    "      "
   ]
  },
  {
   "cell_type": "markdown",
   "id": "cc9341b1-8c77-4a37-92eb-70b7e7545f54",
   "metadata": {},
   "source": [
    "Q3. What is abc module in python? Why is it used?"
   ]
  },
  {
   "cell_type": "markdown",
   "id": "68014840-4e07-4234-a8b1-27a1e20346be",
   "metadata": {},
   "source": [
    "#### Answer -"
   ]
  },
  {
   "cell_type": "markdown",
   "id": "d72ba914-0ecd-4456-bff1-227df761f5fb",
   "metadata": {},
   "source": [
    "In python, abc module stands for \"Abstract Base Classes\". It provides tools for defining abstract base classes in Python. With the help of abc module we define a blueprint that we can use in other classes. abc module is used to reduce time consumption and increase the reusability of any method."
   ]
  },
  {
   "cell_type": "markdown",
   "id": "915d1a10-b986-4d18-a1b8-842ee72d5265",
   "metadata": {},
   "source": [
    "      "
   ]
  },
  {
   "cell_type": "markdown",
   "id": "6acc97a9-6b8a-4f87-807f-1039bf8d2ff0",
   "metadata": {},
   "source": [
    "      "
   ]
  },
  {
   "cell_type": "markdown",
   "id": "a6d6ce21-6d01-4b99-89b2-f8d6c4709ca3",
   "metadata": {},
   "source": [
    "Q4. How can we achieve data abstraction?"
   ]
  },
  {
   "cell_type": "markdown",
   "id": "459897fa-1d45-4619-8167-19aaff07f129",
   "metadata": {},
   "source": [
    "#### Answer - \n",
    "I am not able to understand this question because I have not done this\n",
    "kind of study yet so please email me the solution and explain it."
   ]
  },
  {
   "cell_type": "markdown",
   "id": "6eb30ee7-dd0f-4194-8c7a-3ccbc8394f44",
   "metadata": {},
   "source": [
    "      "
   ]
  },
  {
   "cell_type": "markdown",
   "id": "e85a2a60-e19b-4693-9026-9994be06ddac",
   "metadata": {},
   "source": [
    "      "
   ]
  },
  {
   "cell_type": "markdown",
   "id": "13ee2bda-79d0-44a1-9c66-16a85bfca332",
   "metadata": {},
   "source": [
    "Q5. Can we create an instance of an abstract class? Explain your answer."
   ]
  },
  {
   "cell_type": "markdown",
   "id": "559d8f3e-ebe4-47e8-bda4-de5c25496ac0",
   "metadata": {},
   "source": [
    "#### Answer -"
   ]
  },
  {
   "cell_type": "markdown",
   "id": "adc89775-4554-4de1-bd2e-0471aed5335f",
   "metadata": {},
   "source": [
    "No, We cannot create an instance of an abstract class directly in Python. Abstract methods are methods defined in an abstract class that are used only by another class that follows the methods of the abstract class."
   ]
  },
  {
   "cell_type": "code",
   "execution_count": null,
   "id": "946a19e3-cb04-4533-a204-e878744e670c",
   "metadata": {},
   "outputs": [],
   "source": []
  },
  {
   "cell_type": "code",
   "execution_count": null,
   "id": "676462b1-1544-4b6d-ad0c-2b450ea7e42e",
   "metadata": {},
   "outputs": [],
   "source": []
  }
 ],
 "metadata": {
  "kernelspec": {
   "display_name": "Python 3 (ipykernel)",
   "language": "python",
   "name": "python3"
  },
  "language_info": {
   "codemirror_mode": {
    "name": "ipython",
    "version": 3
   },
   "file_extension": ".py",
   "mimetype": "text/x-python",
   "name": "python",
   "nbconvert_exporter": "python",
   "pygments_lexer": "ipython3",
   "version": "3.10.8"
  }
 },
 "nbformat": 4,
 "nbformat_minor": 5
}
