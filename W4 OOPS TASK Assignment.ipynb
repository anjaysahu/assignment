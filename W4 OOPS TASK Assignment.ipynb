{
 "cells": [
  {
   "cell_type": "markdown",
   "id": "0e7a072c-6d53-467c-89c9-627bff867920",
   "metadata": {},
   "source": [
    "Q1. Create a vehicle class with an init method having instance variables as name_of_vehicle, max_speed and average_of_vehicle."
   ]
  },
  {
   "cell_type": "markdown",
   "id": "ea50a9d6-6634-462a-bff2-664d08ed60a6",
   "metadata": {},
   "source": [
    "#### Answer - "
   ]
  },
  {
   "cell_type": "code",
   "execution_count": 1,
   "id": "7fad4a66-1033-4871-85a3-b403e585c60f",
   "metadata": {},
   "outputs": [],
   "source": [
    "class vehicle:\n",
    "    \n",
    "    def __init__(self, vehicle_name, maximum_speed, vehicle_average):\n",
    "        self.name_of_vehicle  =  vehicle_name\n",
    "        self.max_speed = maximum_speed\n",
    "        self.average_of_vehicle = vehicle_average"
   ]
  },
  {
   "cell_type": "markdown",
   "id": "c112fa25-5f68-4724-ac8f-092438eb7bf5",
   "metadata": {},
   "source": [
    "      "
   ]
  },
  {
   "cell_type": "markdown",
   "id": "f7766d7d-c092-42a9-9cd4-3f223b323212",
   "metadata": {},
   "source": [
    "Q2. Create a child class car from the vehicle class created in Que 1, which will inherit the vehicle class.\n",
    "Create a method named seating_capacity which takes capacity as an argument and returns the name of the vehicle and its seating capacity."
   ]
  },
  {
   "cell_type": "markdown",
   "id": "57be3342-d7dc-420b-82b5-8ed944709fb5",
   "metadata": {},
   "source": [
    "#### Answer - "
   ]
  },
  {
   "cell_type": "markdown",
   "id": "f7013bcd-9ae6-43b5-9348-a58f401d6b58",
   "metadata": {},
   "source": [
    "I tried to solve this question but I am not solved this question because I have not done this kind of study yet so please email me the solution and explain it."
   ]
  },
  {
   "cell_type": "markdown",
   "id": "6350d3d5-82ca-4851-a278-200da183d0b9",
   "metadata": {},
   "source": [
    "      "
   ]
  },
  {
   "cell_type": "markdown",
   "id": "c6809028-ed46-4ef0-b288-af7fbafa17d3",
   "metadata": {},
   "source": [
    "Q3. What is multiple inheritance? Write a python code to demonstrate multiple inheritance."
   ]
  },
  {
   "cell_type": "markdown",
   "id": "14008e6d-8be8-49cb-9f05-f2ccbce77c1c",
   "metadata": {},
   "source": [
    "#### Answer - "
   ]
  },
  {
   "cell_type": "markdown",
   "id": "f422a3a7-9795-4bea-a37d-8c894c7a170d",
   "metadata": {},
   "source": [
    "When we access the properties of different classes in a new class, it is called \"Multiple Inheritance\"."
   ]
  },
  {
   "cell_type": "code",
   "execution_count": 2,
   "id": "aaab23ce-1dc8-4fa5-9b7b-14ad81932d6f",
   "metadata": {},
   "outputs": [],
   "source": [
    "class cls_1:\n",
    "    \n",
    "    def cls_p1(self):\n",
    "        return \"this is cls_1 method\""
   ]
  },
  {
   "cell_type": "code",
   "execution_count": 3,
   "id": "623021e1-1ec0-40ed-a3ef-7548d6f39896",
   "metadata": {},
   "outputs": [],
   "source": [
    "class cls_2:\n",
    "    \n",
    "    def cls_p2(self):\n",
    "        return \"this is cls_2 method\""
   ]
  },
  {
   "cell_type": "code",
   "execution_count": 4,
   "id": "1360a109-8bb9-4223-b4f3-9b090d186481",
   "metadata": {},
   "outputs": [],
   "source": [
    "class cls_3(cls_1, cls_2): # Multiple Inheritance\n",
    "    pass"
   ]
  },
  {
   "cell_type": "code",
   "execution_count": 5,
   "id": "aef94b76-afb6-4d2f-a02e-e4c2b2219fd8",
   "metadata": {},
   "outputs": [],
   "source": [
    "c3_ins = cls_3()"
   ]
  },
  {
   "cell_type": "code",
   "execution_count": 6,
   "id": "c4d259d9-52a7-40d2-a7ba-738331433095",
   "metadata": {},
   "outputs": [
    {
     "data": {
      "text/plain": [
       "'this is cls_1 method'"
      ]
     },
     "execution_count": 6,
     "metadata": {},
     "output_type": "execute_result"
    }
   ],
   "source": [
    "c3_ins.cls_p1()"
   ]
  },
  {
   "cell_type": "code",
   "execution_count": 7,
   "id": "e463fc20-54a6-4880-bcb4-79c07f024390",
   "metadata": {},
   "outputs": [
    {
     "data": {
      "text/plain": [
       "'this is cls_2 method'"
      ]
     },
     "execution_count": 7,
     "metadata": {},
     "output_type": "execute_result"
    }
   ],
   "source": [
    "c3_ins.cls_p2()"
   ]
  },
  {
   "cell_type": "markdown",
   "id": "b6039edf-140d-4ac7-9060-70939db12dc3",
   "metadata": {},
   "source": [
    "          "
   ]
  },
  {
   "cell_type": "markdown",
   "id": "ccd2dee0-0dc8-4cec-be7f-c84c30f9846f",
   "metadata": {},
   "source": [
    "Q4. What are getter and setter in python? Create a class and create a getter and a setter method in this class."
   ]
  },
  {
   "cell_type": "markdown",
   "id": "b7540518-7af7-49c8-9708-f2bd4f94949b",
   "metadata": {},
   "source": [
    "#### Answer - "
   ]
  },
  {
   "cell_type": "markdown",
   "id": "f96a10aa-167d-4c2d-affd-1f7c58839ecb",
   "metadata": {},
   "source": [
    "getter method helps to access the private attributes from a class.  \n",
    "setter method allows to set the value to private attributes in a class."
   ]
  },
  {
   "cell_type": "code",
   "execution_count": 8,
   "id": "ae5aea22-ad75-4a5f-8237-10366983402d",
   "metadata": {},
   "outputs": [],
   "source": [
    "class gscls:\n",
    "    \n",
    "    def __init__(self, name, age):\n",
    "        self.__m_name = name\n",
    "        self.__m_age = age\n",
    "    \n",
    "    @property\n",
    "    def get_m_name(self):\n",
    "        return self.__m_name\n",
    "    \n",
    "    @property\n",
    "    def get_m_age(self):\n",
    "        return self.__m_age\n",
    "    \n",
    "    @get_m_age.setter\n",
    "    def set_m_age(self, age):\n",
    "        if age <= 0:\n",
    "            pass\n",
    "            \n",
    "        else :\n",
    "            self.__m_age = age\n",
    "            return self.__m_age"
   ]
  },
  {
   "cell_type": "code",
   "execution_count": 9,
   "id": "a199ba83-b27e-45f8-8a96-ed960f96e1fc",
   "metadata": {},
   "outputs": [],
   "source": [
    "vgs = gscls(\"anjay\", 22)"
   ]
  },
  {
   "cell_type": "code",
   "execution_count": 10,
   "id": "a4a6c97f-3ac2-4e3a-a86b-da075500a5f0",
   "metadata": {},
   "outputs": [
    {
     "data": {
      "text/plain": [
       "'anjay'"
      ]
     },
     "execution_count": 10,
     "metadata": {},
     "output_type": "execute_result"
    }
   ],
   "source": [
    "vgs.get_m_name"
   ]
  },
  {
   "cell_type": "code",
   "execution_count": 11,
   "id": "1280a11b-b70d-467c-affa-788415027bb8",
   "metadata": {},
   "outputs": [
    {
     "data": {
      "text/plain": [
       "22"
      ]
     },
     "execution_count": 11,
     "metadata": {},
     "output_type": "execute_result"
    }
   ],
   "source": [
    "vgs.get_m_age"
   ]
  },
  {
   "cell_type": "code",
   "execution_count": 12,
   "id": "eda93c42-777f-451c-af64-eccdc221b651",
   "metadata": {},
   "outputs": [],
   "source": [
    "vgs.set_m_age = 18"
   ]
  },
  {
   "cell_type": "code",
   "execution_count": 13,
   "id": "8339e286-855e-4433-adc7-2c1bed8542c9",
   "metadata": {},
   "outputs": [
    {
     "data": {
      "text/plain": [
       "18"
      ]
     },
     "execution_count": 13,
     "metadata": {},
     "output_type": "execute_result"
    }
   ],
   "source": [
    "vgs.get_m_age"
   ]
  },
  {
   "cell_type": "markdown",
   "id": "f21d1e21-9cb3-42fa-89ab-1c7a369eafb7",
   "metadata": {},
   "source": [
    "      "
   ]
  },
  {
   "cell_type": "markdown",
   "id": "d55a3374-0873-4ef6-9d03-e03159aac9a0",
   "metadata": {},
   "source": [
    "Q5.What is method overriding in python? Write a python code to demonstrate method overriding."
   ]
  },
  {
   "cell_type": "markdown",
   "id": "2cfa1be1-c498-4b82-8c64-6c29124a0732",
   "metadata": {},
   "source": [
    "#### Answer - "
   ]
  },
  {
   "cell_type": "markdown",
   "id": "b96bfd95-7803-4410-91b8-a47d61d850c9",
   "metadata": {},
   "source": [
    "When we create a parent class and define an internal method and we inherit the parent class in the child class then we can access the internal method of the parent class and redefine it. This is called method overriding."
   ]
  },
  {
   "cell_type": "code",
   "execution_count": 14,
   "id": "5b5c4624-20a3-479f-8a16-06c3d636d4cd",
   "metadata": {},
   "outputs": [],
   "source": [
    "class animal:\n",
    "    \n",
    "    def make_sound(self):\n",
    "        return \"Every animal makes a different sound\""
   ]
  },
  {
   "cell_type": "code",
   "execution_count": 16,
   "id": "ec7c85c6-3cc0-4287-82b2-d4ce7bbf3d2b",
   "metadata": {},
   "outputs": [],
   "source": [
    "class dog(animal):\n",
    "    \n",
    "    def make_sound(self):\n",
    "        return \"Dog barks\""
   ]
  },
  {
   "cell_type": "code",
   "execution_count": 17,
   "id": "41d87aa7-38be-42be-a2b4-0e951c88736d",
   "metadata": {},
   "outputs": [],
   "source": [
    "D = dog()"
   ]
  },
  {
   "cell_type": "code",
   "execution_count": 18,
   "id": "ee00aa3e-b7a3-4ea5-b7cd-47d2d197df9a",
   "metadata": {},
   "outputs": [
    {
     "data": {
      "text/plain": [
       "'Dog barks'"
      ]
     },
     "execution_count": 18,
     "metadata": {},
     "output_type": "execute_result"
    }
   ],
   "source": [
    "D.make_sound()"
   ]
  },
  {
   "cell_type": "code",
   "execution_count": 19,
   "id": "af4cef4f-edca-4167-a52d-3cd6104415eb",
   "metadata": {},
   "outputs": [],
   "source": [
    "class cat(animal):\n",
    "    \n",
    "    def make_sound(self):\n",
    "        return \"Cat meows\""
   ]
  },
  {
   "cell_type": "code",
   "execution_count": 20,
   "id": "817a1a29-3925-47b3-bd29-06b59fefff1f",
   "metadata": {},
   "outputs": [],
   "source": [
    "C = cat()"
   ]
  },
  {
   "cell_type": "code",
   "execution_count": 21,
   "id": "28061f99-70c4-474c-99ce-46d3f4134a6f",
   "metadata": {},
   "outputs": [
    {
     "data": {
      "text/plain": [
       "'Cat meows'"
      ]
     },
     "execution_count": 21,
     "metadata": {},
     "output_type": "execute_result"
    }
   ],
   "source": [
    "C.make_sound()"
   ]
  },
  {
   "cell_type": "code",
   "execution_count": null,
   "id": "79e405ca-2f96-44f7-afc2-27db93e188eb",
   "metadata": {},
   "outputs": [],
   "source": []
  }
 ],
 "metadata": {
  "kernelspec": {
   "display_name": "Python 3 (ipykernel)",
   "language": "python",
   "name": "python3"
  },
  "language_info": {
   "codemirror_mode": {
    "name": "ipython",
    "version": 3
   },
   "file_extension": ".py",
   "mimetype": "text/x-python",
   "name": "python",
   "nbconvert_exporter": "python",
   "pygments_lexer": "ipython3",
   "version": "3.10.8"
  }
 },
 "nbformat": 4,
 "nbformat_minor": 5
}
