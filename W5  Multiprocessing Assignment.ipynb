{
 "cells": [
  {
   "cell_type": "markdown",
   "id": "ba2c5c54-19de-4864-bc99-fb39e73bade6",
   "metadata": {},
   "source": [
    "Q1. What is multiprocessing in python? Why is it useful?"
   ]
  },
  {
   "cell_type": "markdown",
   "id": "d6f7d42f-df2d-4191-9182-0dbe7cfc3a28",
   "metadata": {
    "tags": []
   },
   "source": [
    "#### Answer - "
   ]
  },
  {
   "cell_type": "markdown",
   "id": "5dae595f-907c-43e6-94c0-afe69e7534b8",
   "metadata": {},
   "source": [
    "Multiprocessing allows the system to run multiple processes simultaneously. Multiprocessing provides a convenient way to harness the full potential of modern multi-core processors."
   ]
  },
  {
   "cell_type": "markdown",
   "id": "167f54d5-954d-4129-badd-8112ca9878ed",
   "metadata": {},
   "source": [
    "       "
   ]
  },
  {
   "cell_type": "markdown",
   "id": "7d5c5134-e4df-4997-a1df-8f297c1f46a6",
   "metadata": {},
   "source": [
    "Q2. What are the differences between multiprocessing and multithreading?"
   ]
  },
  {
   "cell_type": "markdown",
   "id": "c7a486d1-9487-4154-b1a6-7aa5ab731321",
   "metadata": {
    "tags": []
   },
   "source": [
    "#### Answer - "
   ]
  },
  {
   "cell_type": "markdown",
   "id": "8775e3fe-ddb8-43c6-be4b-107d15593a51",
   "metadata": {},
   "source": [
    "Multithreading refers to the ability of a processor to execute multiple threads concurrently, where each thread runs a process. Multiprocessing refers to the ability of a system to run multiple processors in parallel, where each processor can run one or more threads."
   ]
  },
  {
   "cell_type": "markdown",
   "id": "6abb1e71-9926-4171-85f4-a952d27e56d8",
   "metadata": {},
   "source": [
    "       "
   ]
  },
  {
   "cell_type": "markdown",
   "id": "fc9df03d-4b92-4b1b-be04-a6604a7af20c",
   "metadata": {},
   "source": [
    "Q3. Write a python code to create a process using the multiprocessing module."
   ]
  },
  {
   "cell_type": "markdown",
   "id": "c77603d3-e72f-41d1-80d0-0f43f524a461",
   "metadata": {
    "tags": []
   },
   "source": [
    "#### Answer - "
   ]
  },
  {
   "cell_type": "code",
   "execution_count": 1,
   "id": "71aefc6f-da85-4f3e-8822-2694799a84d1",
   "metadata": {},
   "outputs": [
    {
     "name": "stdout",
     "output_type": "stream",
     "text": [
      "this is my main program\n",
      "this is my child program\n"
     ]
    }
   ],
   "source": [
    "import multiprocessing\n",
    "\n",
    "def M_mdl():\n",
    "    print(\"this is my child program\")\n",
    "    \n",
    "if __name__ == \"__main__\":\n",
    "    m = multiprocessing.Process(target=M_mdl)\n",
    "    print(\"this is my main program\")\n",
    "    m.start()\n",
    "    m.join()"
   ]
  },
  {
   "cell_type": "markdown",
   "id": "99d3ba3b-c581-40c2-ba73-0d111c3797d9",
   "metadata": {},
   "source": [
    "       "
   ]
  },
  {
   "cell_type": "markdown",
   "id": "3ffc4c88-e2c5-4c4f-b20f-71cfcdf83381",
   "metadata": {},
   "source": [
    "Q4. What is a multiprocessing pool in python? Why is it used?"
   ]
  },
  {
   "cell_type": "markdown",
   "id": "48f3aecf-6585-4238-a47e-6ab551d23320",
   "metadata": {
    "tags": []
   },
   "source": [
    "#### Answer - "
   ]
  },
  {
   "cell_type": "markdown",
   "id": "b9f3aaa4-3127-42a5-ada0-9ee43f84f597",
   "metadata": {},
   "source": [
    "In Python, the multiprocessing module provides support for parallel execution of tasks using multiple processes. multiprocessing.Pool is used primarily for parallelizing CPU-bound tasks."
   ]
  },
  {
   "cell_type": "markdown",
   "id": "6cf1ba75-9d6e-4320-ad9f-a636d90e4b76",
   "metadata": {},
   "source": [
    "       "
   ]
  },
  {
   "cell_type": "markdown",
   "id": "e8bd78e6-9399-4724-a3c0-78fc77d89f3d",
   "metadata": {},
   "source": [
    "Q5. How can we create a pool of worker processes in python using the multiprocessing module?"
   ]
  },
  {
   "cell_type": "markdown",
   "id": "5523a7b2-67b5-4a99-8ba8-1f13d8475b54",
   "metadata": {
    "tags": []
   },
   "source": [
    "#### Answer - "
   ]
  },
  {
   "cell_type": "code",
   "execution_count": 2,
   "id": "9b666c22-a4be-4f2a-abbf-f3c565b093d6",
   "metadata": {},
   "outputs": [
    {
     "name": "stdout",
     "output_type": "stream",
     "text": [
      "[4, 9, 81, 49, 64, 25, 16]\n"
     ]
    }
   ],
   "source": [
    "def square(n):\n",
    "    return n**2\n",
    "\n",
    "if __name__ == \"__main__\":\n",
    "    with multiprocessing.Pool(processes=6) as pool:\n",
    "        result = pool.map(square, [2,3,9,7,8,5,4])\n",
    "    \n",
    "    print(result)"
   ]
  },
  {
   "cell_type": "markdown",
   "id": "6db7a3fc-538a-40d7-99aa-6fde760ca41a",
   "metadata": {},
   "source": [
    "       "
   ]
  },
  {
   "cell_type": "markdown",
   "id": "451c0040-4d6e-42df-a530-1d5e07311066",
   "metadata": {},
   "source": [
    "Q6. Write a python program to create 4 processes, each process should print a different number using the multiprocessing module in python."
   ]
  },
  {
   "cell_type": "markdown",
   "id": "6f3725b5-6129-4bbc-8da9-4a01884b4e5b",
   "metadata": {
    "tags": []
   },
   "source": [
    "#### Answer - "
   ]
  },
  {
   "cell_type": "code",
   "execution_count": 3,
   "id": "6fc48d3f-a632-4ad1-b988-150b40366c5e",
   "metadata": {},
   "outputs": [
    {
     "name": "stdout",
     "output_type": "stream",
     "text": [
      "this is different number: 0\n",
      "this is different number: 1\n",
      "this is different number: 2\n",
      "this is different number: 3\n",
      "this is different number: 4\n",
      "this is different number: 5\n"
     ]
    }
   ],
   "source": [
    "def print_number(n):\n",
    "    print(\"this is different number:\", n)\n",
    "\n",
    "if __name__ == \"__main__\":\n",
    "    processes = []\n",
    "    for i in range(6):\n",
    "        p = multiprocessing.Process(target=print_number, args=(i,))\n",
    "        processes.append(p)\n",
    "        p.start()\n",
    "\n",
    "    for p in processes:\n",
    "        p.join()"
   ]
  },
  {
   "cell_type": "code",
   "execution_count": null,
   "id": "059d6f87-f74d-4098-b126-24e241fa45f0",
   "metadata": {},
   "outputs": [],
   "source": []
  }
 ],
 "metadata": {
  "kernelspec": {
   "display_name": "Python 3 (ipykernel)",
   "language": "python",
   "name": "python3"
  },
  "language_info": {
   "codemirror_mode": {
    "name": "ipython",
    "version": 3
   },
   "file_extension": ".py",
   "mimetype": "text/x-python",
   "name": "python",
   "nbconvert_exporter": "python",
   "pygments_lexer": "ipython3",
   "version": "3.10.8"
  }
 },
 "nbformat": 4,
 "nbformat_minor": 5
}
