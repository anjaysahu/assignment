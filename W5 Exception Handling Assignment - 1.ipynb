{
 "cells": [
  {
   "cell_type": "markdown",
   "id": "cd4d5c65-dbb3-4dcf-a792-3ed1e219fe86",
   "metadata": {},
   "source": [
    "Q1. What is an Exception in python? Write the difference between Exceptions and syntax errors."
   ]
  },
  {
   "cell_type": "markdown",
   "id": "4acb4742-cf06-4784-808d-58770d53eb1e",
   "metadata": {},
   "source": [
    "#### Answer - "
   ]
  },
  {
   "cell_type": "markdown",
   "id": "ced5970a-0bc7-4416-bcee-1978f945aa5b",
   "metadata": {},
   "source": [
    "When there is a possibility of an error occurring in any correct code, that is called an exception. Syntax error comes when any code is syntactically incorrect on the other hand Exceptions error are runtime errors that disrupt the normal flow of program execution."
   ]
  },
  {
   "cell_type": "markdown",
   "id": "ae8b5886-4b85-4b21-b9a3-21365fdbd054",
   "metadata": {},
   "source": [
    "    "
   ]
  },
  {
   "cell_type": "markdown",
   "id": "3745e463-d64a-420e-849e-52ae0a597562",
   "metadata": {},
   "source": [
    "Q2. What happens when an exception is not handled? Explain with an example."
   ]
  },
  {
   "cell_type": "markdown",
   "id": "2c0bc63a-f96b-4c3d-8dff-215b14f6a4ee",
   "metadata": {},
   "source": [
    "#### Answer - "
   ]
  },
  {
   "cell_type": "markdown",
   "id": "55616664-234e-4451-a1d4-2a9b28eac0dd",
   "metadata": {},
   "source": [
    "When an exception is not handled then the next line of code will not execute successfully."
   ]
  },
  {
   "cell_type": "code",
   "execution_count": 1,
   "id": "204602db-dc78-4666-a1a4-30a1a9a8c744",
   "metadata": {},
   "outputs": [
    {
     "ename": "FileNotFoundError",
     "evalue": "[Errno 2] No such file or directory: 'new_f.txt'",
     "output_type": "error",
     "traceback": [
      "\u001b[0;31m---------------------------------------------------------------------------\u001b[0m",
      "\u001b[0;31mFileNotFoundError\u001b[0m                         Traceback (most recent call last)",
      "Cell \u001b[0;32mIn[1], line 1\u001b[0m\n\u001b[0;32m----> 1\u001b[0m f \u001b[38;5;241m=\u001b[39m \u001b[38;5;28;43mopen\u001b[39;49m\u001b[43m(\u001b[49m\u001b[38;5;124;43m\"\u001b[39;49m\u001b[38;5;124;43mnew_f.txt\u001b[39;49m\u001b[38;5;124;43m\"\u001b[39;49m\u001b[43m,\u001b[49m\u001b[38;5;124;43m\"\u001b[39;49m\u001b[38;5;124;43mr\u001b[39;49m\u001b[38;5;124;43m\"\u001b[39;49m\u001b[43m)\u001b[49m\n\u001b[1;32m      2\u001b[0m \u001b[38;5;28mprint\u001b[39m(\u001b[38;5;124m\"\u001b[39m\u001b[38;5;124mthis is pyhton \u001b[39m\u001b[38;5;124m\"\u001b[39m)\n",
      "File \u001b[0;32m/opt/conda/lib/python3.10/site-packages/IPython/core/interactiveshell.py:282\u001b[0m, in \u001b[0;36m_modified_open\u001b[0;34m(file, *args, **kwargs)\u001b[0m\n\u001b[1;32m    275\u001b[0m \u001b[38;5;28;01mif\u001b[39;00m file \u001b[38;5;129;01min\u001b[39;00m {\u001b[38;5;241m0\u001b[39m, \u001b[38;5;241m1\u001b[39m, \u001b[38;5;241m2\u001b[39m}:\n\u001b[1;32m    276\u001b[0m     \u001b[38;5;28;01mraise\u001b[39;00m \u001b[38;5;167;01mValueError\u001b[39;00m(\n\u001b[1;32m    277\u001b[0m         \u001b[38;5;124mf\u001b[39m\u001b[38;5;124m\"\u001b[39m\u001b[38;5;124mIPython won\u001b[39m\u001b[38;5;124m'\u001b[39m\u001b[38;5;124mt let you open fd=\u001b[39m\u001b[38;5;132;01m{\u001b[39;00mfile\u001b[38;5;132;01m}\u001b[39;00m\u001b[38;5;124m by default \u001b[39m\u001b[38;5;124m\"\u001b[39m\n\u001b[1;32m    278\u001b[0m         \u001b[38;5;124m\"\u001b[39m\u001b[38;5;124mas it is likely to crash IPython. If you know what you are doing, \u001b[39m\u001b[38;5;124m\"\u001b[39m\n\u001b[1;32m    279\u001b[0m         \u001b[38;5;124m\"\u001b[39m\u001b[38;5;124myou can use builtins\u001b[39m\u001b[38;5;124m'\u001b[39m\u001b[38;5;124m open.\u001b[39m\u001b[38;5;124m\"\u001b[39m\n\u001b[1;32m    280\u001b[0m     )\n\u001b[0;32m--> 282\u001b[0m \u001b[38;5;28;01mreturn\u001b[39;00m \u001b[43mio_open\u001b[49m\u001b[43m(\u001b[49m\u001b[43mfile\u001b[49m\u001b[43m,\u001b[49m\u001b[43m \u001b[49m\u001b[38;5;241;43m*\u001b[39;49m\u001b[43margs\u001b[49m\u001b[43m,\u001b[49m\u001b[43m \u001b[49m\u001b[38;5;241;43m*\u001b[39;49m\u001b[38;5;241;43m*\u001b[39;49m\u001b[43mkwargs\u001b[49m\u001b[43m)\u001b[49m\n",
      "\u001b[0;31mFileNotFoundError\u001b[0m: [Errno 2] No such file or directory: 'new_f.txt'"
     ]
    }
   ],
   "source": [
    "f = open(\"new_f.txt\",\"r\")\n",
    "print(\"this is pyhton \")"
   ]
  },
  {
   "cell_type": "markdown",
   "id": "28c24ba8-90e0-4aee-89ae-acd022266c75",
   "metadata": {},
   "source": [
    "    "
   ]
  },
  {
   "cell_type": "markdown",
   "id": "68cced46-e298-484d-996b-4f0b9bb18bdd",
   "metadata": {},
   "source": [
    "Q3. Which Python statements are used to catch and handle exceptions? Explain with an example."
   ]
  },
  {
   "cell_type": "markdown",
   "id": "cb994e41-5b64-4075-9b3c-2361e63fa218",
   "metadata": {},
   "source": [
    "#### Answer - "
   ]
  },
  {
   "cell_type": "markdown",
   "id": "e2453423-dd44-48f4-80c4-8c010cfc3132",
   "metadata": {},
   "source": [
    "try and except statements are used to catch and handle exceptions."
   ]
  },
  {
   "cell_type": "code",
   "execution_count": 2,
   "id": "377b785b-84f3-460d-8195-9500a7676061",
   "metadata": {},
   "outputs": [
    {
     "name": "stdout",
     "output_type": "stream",
     "text": [
      "This is except statement. [Errno 2] No such file or directory: 'new_f.txt'\n"
     ]
    }
   ],
   "source": [
    "try :\n",
    "    f = open(\"new_f.txt\",\"r\")\n",
    "    \n",
    "except Exception as e:\n",
    "    print(\"This is except statement.\",e)"
   ]
  },
  {
   "cell_type": "markdown",
   "id": "3d53cb16-0092-4a62-b4e2-a8ccd1c930a8",
   "metadata": {},
   "source": [
    "    "
   ]
  },
  {
   "cell_type": "markdown",
   "id": "b4da40a4-0798-4129-8253-2d6ebf7c06fc",
   "metadata": {},
   "source": [
    "Q4. Explain with an example:  \n",
    "\n",
    "  a. try and else  \n",
    "  b. finally  \n",
    "  c. raise "
   ]
  },
  {
   "cell_type": "markdown",
   "id": "a4a9c005-5420-4e15-9035-43fd8c6a1018",
   "metadata": {},
   "source": [
    "#### Answer - "
   ]
  },
  {
   "cell_type": "markdown",
   "id": "8cc40c0e-ba62-42bb-b1f9-a64aa32f222d",
   "metadata": {},
   "source": [
    "##### try and else -"
   ]
  },
  {
   "cell_type": "code",
   "execution_count": 3,
   "id": "a65e7dec-d364-47ec-a0be-ba0f9441b5f0",
   "metadata": {},
   "outputs": [
    {
     "name": "stdout",
     "output_type": "stream",
     "text": [
      "The 'else block' will execute only when the 'try block' executes successfully without error.\n"
     ]
    }
   ],
   "source": [
    "try :\n",
    "    f = open(\"test_f.txt\",\"w\")\n",
    "    \n",
    "except Exception as e:\n",
    "    print(\"This is except statement.\",e)\n",
    "    \n",
    "else:\n",
    "    print(\"The 'else block' will execute only when the 'try block' executes successfully without error.\")"
   ]
  },
  {
   "cell_type": "markdown",
   "id": "5b472d95-4fa2-4247-b73a-0b578c5a9c79",
   "metadata": {},
   "source": [
    "    "
   ]
  },
  {
   "cell_type": "markdown",
   "id": "509a2cc7-5dd3-42f1-9738-3722ad47d6e6",
   "metadata": {},
   "source": [
    "##### finally -"
   ]
  },
  {
   "cell_type": "code",
   "execution_count": 4,
   "id": "cf8c83e1-469d-4bb3-948a-e471f49a5504",
   "metadata": {},
   "outputs": [
    {
     "name": "stdout",
     "output_type": "stream",
     "text": [
      "This is except statement. [Errno 2] No such file or directory: 'test_o_f.txt'\n",
      "finally will execute itself in any situation \n"
     ]
    }
   ],
   "source": [
    "try :\n",
    "    f = open(\"test_o_f.txt\",\"r\")\n",
    "    \n",
    "except Exception as e:\n",
    "    print(\"This is except statement.\",e)\n",
    "    \n",
    "finally :\n",
    "    print(\"finally will execute itself in any situation \")"
   ]
  },
  {
   "cell_type": "code",
   "execution_count": 5,
   "id": "d0dfc00f-9bb3-4827-a73f-c2b5c1ed5d12",
   "metadata": {},
   "outputs": [
    {
     "name": "stdout",
     "output_type": "stream",
     "text": [
      "finally will execute itself in any situation \n"
     ]
    },
    {
     "ename": "FileNotFoundError",
     "evalue": "[Errno 2] No such file or directory: 'test_o_f.txt'",
     "output_type": "error",
     "traceback": [
      "\u001b[0;31m---------------------------------------------------------------------------\u001b[0m",
      "\u001b[0;31mFileNotFoundError\u001b[0m                         Traceback (most recent call last)",
      "Cell \u001b[0;32mIn[5], line 2\u001b[0m\n\u001b[1;32m      1\u001b[0m \u001b[38;5;28;01mtry\u001b[39;00m :\n\u001b[0;32m----> 2\u001b[0m     f \u001b[38;5;241m=\u001b[39m \u001b[38;5;28;43mopen\u001b[39;49m\u001b[43m(\u001b[49m\u001b[38;5;124;43m\"\u001b[39;49m\u001b[38;5;124;43mtest_o_f.txt\u001b[39;49m\u001b[38;5;124;43m\"\u001b[39;49m\u001b[43m,\u001b[49m\u001b[38;5;124;43m\"\u001b[39;49m\u001b[38;5;124;43mr\u001b[39;49m\u001b[38;5;124;43m\"\u001b[39;49m\u001b[43m)\u001b[49m\n\u001b[1;32m      4\u001b[0m \u001b[38;5;28;01mfinally\u001b[39;00m :\n\u001b[1;32m      5\u001b[0m     \u001b[38;5;28mprint\u001b[39m(\u001b[38;5;124m\"\u001b[39m\u001b[38;5;124mfinally will execute itself in any situation \u001b[39m\u001b[38;5;124m\"\u001b[39m)\n",
      "File \u001b[0;32m/opt/conda/lib/python3.10/site-packages/IPython/core/interactiveshell.py:282\u001b[0m, in \u001b[0;36m_modified_open\u001b[0;34m(file, *args, **kwargs)\u001b[0m\n\u001b[1;32m    275\u001b[0m \u001b[38;5;28;01mif\u001b[39;00m file \u001b[38;5;129;01min\u001b[39;00m {\u001b[38;5;241m0\u001b[39m, \u001b[38;5;241m1\u001b[39m, \u001b[38;5;241m2\u001b[39m}:\n\u001b[1;32m    276\u001b[0m     \u001b[38;5;28;01mraise\u001b[39;00m \u001b[38;5;167;01mValueError\u001b[39;00m(\n\u001b[1;32m    277\u001b[0m         \u001b[38;5;124mf\u001b[39m\u001b[38;5;124m\"\u001b[39m\u001b[38;5;124mIPython won\u001b[39m\u001b[38;5;124m'\u001b[39m\u001b[38;5;124mt let you open fd=\u001b[39m\u001b[38;5;132;01m{\u001b[39;00mfile\u001b[38;5;132;01m}\u001b[39;00m\u001b[38;5;124m by default \u001b[39m\u001b[38;5;124m\"\u001b[39m\n\u001b[1;32m    278\u001b[0m         \u001b[38;5;124m\"\u001b[39m\u001b[38;5;124mas it is likely to crash IPython. If you know what you are doing, \u001b[39m\u001b[38;5;124m\"\u001b[39m\n\u001b[1;32m    279\u001b[0m         \u001b[38;5;124m\"\u001b[39m\u001b[38;5;124myou can use builtins\u001b[39m\u001b[38;5;124m'\u001b[39m\u001b[38;5;124m open.\u001b[39m\u001b[38;5;124m\"\u001b[39m\n\u001b[1;32m    280\u001b[0m     )\n\u001b[0;32m--> 282\u001b[0m \u001b[38;5;28;01mreturn\u001b[39;00m \u001b[43mio_open\u001b[49m\u001b[43m(\u001b[49m\u001b[43mfile\u001b[49m\u001b[43m,\u001b[49m\u001b[43m \u001b[49m\u001b[38;5;241;43m*\u001b[39;49m\u001b[43margs\u001b[49m\u001b[43m,\u001b[49m\u001b[43m \u001b[49m\u001b[38;5;241;43m*\u001b[39;49m\u001b[38;5;241;43m*\u001b[39;49m\u001b[43mkwargs\u001b[49m\u001b[43m)\u001b[49m\n",
      "\u001b[0;31mFileNotFoundError\u001b[0m: [Errno 2] No such file or directory: 'test_o_f.txt'"
     ]
    }
   ],
   "source": [
    "try :\n",
    "    f = open(\"test_o_f.txt\",\"r\")\n",
    "\n",
    "finally :\n",
    "    print(\"finally will execute itself in any situation \")"
   ]
  },
  {
   "cell_type": "markdown",
   "id": "cef410cd-18a8-499f-bc8b-575f425fd866",
   "metadata": {},
   "source": [
    "    "
   ]
  },
  {
   "cell_type": "markdown",
   "id": "a5b3f943-5d46-48e6-9fc4-d1a0759b243e",
   "metadata": {},
   "source": [
    "##### raise -\n",
    "raise is the inbuilt keyword in python to raise an Exception."
   ]
  },
  {
   "cell_type": "code",
   "execution_count": 6,
   "id": "1b1ddcc0-0792-48d3-b2eb-6ce0d09055e9",
   "metadata": {},
   "outputs": [],
   "source": [
    "class age_exp(Exception):\n",
    "    \n",
    "    def __init__(self,msg):\n",
    "        self.msg = msg"
   ]
  },
  {
   "cell_type": "code",
   "execution_count": 7,
   "id": "7e5597fb-3b9b-4126-b7b2-9e108aad5583",
   "metadata": {},
   "outputs": [],
   "source": [
    "def age_chq(age):\n",
    "    \n",
    "    if age < 0:\n",
    "        raise age_exp(\"age is negative\")\n",
    "        \n",
    "    elif age > 150:\n",
    "        raise age_exp(\"age is very high\")\n",
    "        \n",
    "    else : \n",
    "        print( \"age is right\")"
   ]
  },
  {
   "cell_type": "code",
   "execution_count": 8,
   "id": "97c5a15c-7633-4402-9f8b-0fb5f8eeabbd",
   "metadata": {},
   "outputs": [
    {
     "name": "stdin",
     "output_type": "stream",
     "text": [
      "enter your age 30\n"
     ]
    },
    {
     "name": "stdout",
     "output_type": "stream",
     "text": [
      "age is right\n"
     ]
    }
   ],
   "source": [
    "try:\n",
    "    age = int(input(\"enter your age\"))\n",
    "    age_chq(age)\n",
    "    \n",
    "except Exception as e:\n",
    "    print(e)"
   ]
  },
  {
   "cell_type": "markdown",
   "id": "0d1d9401-10a6-43fa-8690-10e792adac4b",
   "metadata": {},
   "source": [
    "       "
   ]
  },
  {
   "cell_type": "markdown",
   "id": "234feba1-6540-485d-860d-93d9d517c883",
   "metadata": {},
   "source": [
    "Q5. What are Custom Exceptions in python? Why do we need Custom Exceptions? Explain with an example."
   ]
  },
  {
   "cell_type": "markdown",
   "id": "28227445-e2a4-4d0c-bed7-7b9c8dd23ead",
   "metadata": {},
   "source": [
    "#### Answer - "
   ]
  },
  {
   "cell_type": "markdown",
   "id": "572b7f44-670b-4686-a34a-03a046b9cf32",
   "metadata": {},
   "source": [
    "One such exception that we create on our own is called a custom exception. Custom exception will help us to raise an exception according to our custom logic."
   ]
  },
  {
   "cell_type": "code",
   "execution_count": 9,
   "id": "e2b3f807-2e2e-43e5-a048-9b649e5a4750",
   "metadata": {},
   "outputs": [],
   "source": [
    "class age_exp(Exception):\n",
    "    \n",
    "    def __init__(self,msg):\n",
    "        self.msg = msg"
   ]
  },
  {
   "cell_type": "code",
   "execution_count": 10,
   "id": "6dbbb851-6754-415b-9f1e-de52c98fe5c5",
   "metadata": {},
   "outputs": [],
   "source": [
    "def age_chq(age):\n",
    "    \n",
    "    if age < 0:\n",
    "        raise age_exp(\"age is negative\")\n",
    "        \n",
    "    elif age > 150:\n",
    "        raise age_exp(\"age is very high\")\n",
    "        \n",
    "    else : \n",
    "        print(\"age is right\")"
   ]
  },
  {
   "cell_type": "code",
   "execution_count": 11,
   "id": "456380a6-d7d0-4b9d-8949-ea51799abd43",
   "metadata": {},
   "outputs": [
    {
     "name": "stdin",
     "output_type": "stream",
     "text": [
      "enter your age 210\n"
     ]
    },
    {
     "name": "stdout",
     "output_type": "stream",
     "text": [
      "age is very high\n"
     ]
    }
   ],
   "source": [
    "try:\n",
    "    age = int(input(\"enter your age\"))\n",
    "    age_chq(age)\n",
    "    \n",
    "except Exception as e:\n",
    "    print(e)"
   ]
  },
  {
   "cell_type": "markdown",
   "id": "4719d778-4dc6-44f3-b844-ee459e6eaccd",
   "metadata": {},
   "source": [
    "    "
   ]
  },
  {
   "cell_type": "markdown",
   "id": "286bf943-c198-4b12-bfac-46cb12c51286",
   "metadata": {},
   "source": [
    "Q6. Create a custom exception class. Use this class to handle an exception."
   ]
  },
  {
   "cell_type": "markdown",
   "id": "0e6a0dea-103d-43d5-9cab-874fd8e2e8c2",
   "metadata": {},
   "source": [
    "#### Answer - "
   ]
  },
  {
   "cell_type": "code",
   "execution_count": 12,
   "id": "41b149d5-4a42-4c5f-9efc-74c069d8cf13",
   "metadata": {},
   "outputs": [],
   "source": [
    "class age_exp(Exception):\n",
    "    \n",
    "    def __init__(self,msg):\n",
    "        self.msg = msg"
   ]
  },
  {
   "cell_type": "code",
   "execution_count": 13,
   "id": "eab2b702-8075-40b3-b833-d03ef47f60be",
   "metadata": {},
   "outputs": [],
   "source": [
    "def age_chq(age):\n",
    "    \n",
    "    if age < 0:\n",
    "        raise age_exp(\"age is negative\")\n",
    "        \n",
    "    elif age > 150:\n",
    "        raise age_exp(\"age is very high\")\n",
    "        \n",
    "    else : \n",
    "        print(\"age is right\")"
   ]
  },
  {
   "cell_type": "code",
   "execution_count": 14,
   "id": "62a86c78-1f0d-4901-98f5-3bf998f64773",
   "metadata": {},
   "outputs": [
    {
     "name": "stdin",
     "output_type": "stream",
     "text": [
      "enter your age -18\n"
     ]
    },
    {
     "name": "stdout",
     "output_type": "stream",
     "text": [
      "age is negative\n"
     ]
    }
   ],
   "source": [
    "try:\n",
    "    age = int(input(\"enter your age\"))\n",
    "    age_chq(age)\n",
    "    \n",
    "except Exception as e:\n",
    "    print(e)"
   ]
  },
  {
   "cell_type": "code",
   "execution_count": null,
   "id": "948c6375-8b96-485c-bcf8-0bd77f8b3a22",
   "metadata": {},
   "outputs": [],
   "source": []
  }
 ],
 "metadata": {
  "kernelspec": {
   "display_name": "Python 3 (ipykernel)",
   "language": "python",
   "name": "python3"
  },
  "language_info": {
   "codemirror_mode": {
    "name": "ipython",
    "version": 3
   },
   "file_extension": ".py",
   "mimetype": "text/x-python",
   "name": "python",
   "nbconvert_exporter": "python",
   "pygments_lexer": "ipython3",
   "version": "3.10.8"
  }
 },
 "nbformat": 4,
 "nbformat_minor": 5
}
