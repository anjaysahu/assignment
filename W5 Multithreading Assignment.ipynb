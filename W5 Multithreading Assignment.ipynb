{
 "cells": [
  {
   "cell_type": "markdown",
   "id": "76994973-7442-4d75-8a0e-214a6c150aaa",
   "metadata": {},
   "source": [
    "Q1. what is multithreading in python? why is it used? Name the module used to handle threads in python."
   ]
  },
  {
   "cell_type": "markdown",
   "id": "d54930dc-7748-4ccb-9255-25b1e8c66c79",
   "metadata": {
    "tags": []
   },
   "source": [
    "#### Answer - "
   ]
  },
  {
   "cell_type": "markdown",
   "id": "3f16065b-ca7e-48be-a2dc-b2f412d04e54",
   "metadata": {},
   "source": [
    "Multithreading in Python refers to the ability of a program to execute multiple threads (smaller units of a process) concurrently, multithreading is used to enhance performance, responsiveness, and resource utilization in various types of applications. Python's threading module is commonly used to handle threads."
   ]
  },
  {
   "cell_type": "markdown",
   "id": "115099d9-9589-4a04-b8cc-454b6c830a39",
   "metadata": {},
   "source": [
    "       "
   ]
  },
  {
   "cell_type": "markdown",
   "id": "4af014b7-1d13-465e-bcf9-b8e610a2df09",
   "metadata": {},
   "source": [
    "Q2. why threading module used? write the use of the following functions:\n",
    "\n",
    "1.  activeCount()\n",
    "2.  currentThread()\n",
    "3.  enumerate()"
   ]
  },
  {
   "cell_type": "markdown",
   "id": "8a4de469-08a0-4b4c-8c81-903d9894b11a",
   "metadata": {
    "tags": []
   },
   "source": [
    "#### Answer - "
   ]
  },
  {
   "cell_type": "markdown",
   "id": "2bfa6bea-1207-43f9-a9c1-493f485938f7",
   "metadata": {},
   "source": [
    "The threading module allows multiple threads of execution to take place in a Python program.\n",
    "##### activeCount() − \n",
    "This returns the number of active thread objects.\n",
    "##### currentThread() − \n",
    "This returns the number of objects that are under the thread control of the caller.\n",
    "##### enumerate() −\n",
    "This returns the list of all thread objects that are presently active"
   ]
  },
  {
   "cell_type": "markdown",
   "id": "c1cd177f-f367-4b8a-8ffc-05ab6603f74e",
   "metadata": {},
   "source": [
    "       "
   ]
  },
  {
   "cell_type": "markdown",
   "id": "bd67423e-8c0d-4fbc-b5f0-9552612e6bca",
   "metadata": {},
   "source": [
    "Q3. Explain the following functions:\n",
    "\n",
    "1.  run()\n",
    "2.  start()\n",
    "3.  join()\n",
    "4.  isAlive()"
   ]
  },
  {
   "cell_type": "markdown",
   "id": "c5ea11ec-72ca-4ce8-9bff-4df2e7d06dfb",
   "metadata": {
    "tags": []
   },
   "source": [
    "#### Answer - "
   ]
  },
  {
   "cell_type": "markdown",
   "id": "33411ab8-fc7e-47f4-847b-b7e21a41addb",
   "metadata": {},
   "source": [
    "##### run() -\n",
    "In Python, this method is typically overridden in a subclass of the thread class.\n",
    "##### start() - \n",
    "This method is used to start the execution of a thread.\n",
    "##### join() -\n",
    "This method is used to wait for the thread to complete its execution.\n",
    "##### isAlive() - \n",
    "This method is used to check whether a thread is currently executing or not."
   ]
  },
  {
   "cell_type": "markdown",
   "id": "ed799e8b-2158-44f5-b65b-a2617a8942cf",
   "metadata": {
    "jp-MarkdownHeadingCollapsed": true,
    "tags": []
   },
   "source": [
    "       "
   ]
  },
  {
   "cell_type": "markdown",
   "id": "d4d0e06b-3d99-4ce7-ae6d-35bd8e045a83",
   "metadata": {},
   "source": [
    "Q4. Write a python program to create two threads. Thread one must print the list of squares and thread two must print the list of cubes."
   ]
  },
  {
   "cell_type": "markdown",
   "id": "3820bdee-9c6a-4a58-8ffb-1faf7a47f8b6",
   "metadata": {
    "tags": []
   },
   "source": [
    "#### Answer - "
   ]
  },
  {
   "cell_type": "markdown",
   "id": "898e5635-e035-4650-8677-9519bcefb059",
   "metadata": {},
   "source": [
    "I tried to solve this question but I am not solved this question because I have not done this kind of study yet so please email me the solution and explain it."
   ]
  },
  {
   "cell_type": "markdown",
   "id": "32b0a5f0-7f61-42a4-b91c-f5b1a520dd14",
   "metadata": {},
   "source": [
    "       "
   ]
  },
  {
   "cell_type": "markdown",
   "id": "d34e874b-9dcc-408a-909f-dab7439f9f34",
   "metadata": {},
   "source": [
    "Q5. State advantages and disadvantages of multithreading."
   ]
  },
  {
   "cell_type": "markdown",
   "id": "80992323-8197-40a4-b363-31866523368f",
   "metadata": {
    "tags": []
   },
   "source": [
    "#### Answer - "
   ]
  },
  {
   "cell_type": "markdown",
   "id": "4554101f-da07-479c-8a46-3f1b6129ab77",
   "metadata": {},
   "source": [
    "##### Advantages :\n",
    "- Multithreading allows multiple tasks to be executed concurrently within a single process.\n",
    "- By dividing tasks among multiple threads, multithreading can improve the responsiveness of an application.\n",
    "- Threads within the same process share the same memory space, which allows for easy sharing of data and resources among threads. \n",
    "\n",
    "##### Disadvantages :\n",
    "- Writing and debugging multithreaded code can be challenging due to the need for synchronization mechanisms and careful management of shared resources.\n",
    "- Creating and managing threads incurs overhead in terms of memory and CPU resources.\n",
    "- As the number of threads increases, managing and coordinating them becomes more complex."
   ]
  },
  {
   "cell_type": "markdown",
   "id": "6745e945-8c5b-49b4-9a28-f1eca8ec1ca1",
   "metadata": {},
   "source": [
    "       "
   ]
  },
  {
   "cell_type": "markdown",
   "id": "e1485a47-3830-4aff-9c3b-7d6a3515677b",
   "metadata": {},
   "source": [
    "Q6. Explain deadlocks and race conditions."
   ]
  },
  {
   "cell_type": "markdown",
   "id": "b74ee5d5-c56f-4956-8ddd-064e88602a68",
   "metadata": {
    "tags": []
   },
   "source": [
    "#### Answer - "
   ]
  },
  {
   "cell_type": "markdown",
   "id": "487ab1dd-ae0b-4751-af0d-c914c8ab5d49",
   "metadata": {},
   "source": [
    "I am not able to answer this question because I have not done this kind of study yet so please email me the solution and explain it."
   ]
  },
  {
   "cell_type": "code",
   "execution_count": null,
   "id": "a2189083-ff48-4d4c-a5a2-c66477b1fa41",
   "metadata": {},
   "outputs": [],
   "source": []
  }
 ],
 "metadata": {
  "kernelspec": {
   "display_name": "Python 3 (ipykernel)",
   "language": "python",
   "name": "python3"
  },
  "language_info": {
   "codemirror_mode": {
    "name": "ipython",
    "version": 3
   },
   "file_extension": ".py",
   "mimetype": "text/x-python",
   "name": "python",
   "nbconvert_exporter": "python",
   "pygments_lexer": "ipython3",
   "version": "3.10.8"
  }
 },
 "nbformat": 4,
 "nbformat_minor": 5
}
