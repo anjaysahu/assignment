{
 "cells": [
  {
   "cell_type": "markdown",
   "id": "280269af-0bbe-4303-85a1-2645f7187043",
   "metadata": {},
   "source": [
    "Q1. What is an API? Give an example, where an API is used in real life."
   ]
  },
  {
   "cell_type": "markdown",
   "id": "b3083e97-59da-4bba-b6a6-a5092df007fc",
   "metadata": {},
   "source": [
    "#### Answer - "
   ]
  },
  {
   "cell_type": "markdown",
   "id": "fa7566d6-4bbf-4b55-8050-ddc048a44bc6",
   "metadata": {},
   "source": [
    "API stands for Application Programming Interface. API is a software intermediary that allows two applications to talk to each other. APIs are an accessible way to extract and share data within and across organizations.   \n",
    "\n",
    "When we initiate any transaction, the API transmits our details to the bank application or server for verification. If the details are confirmed as correct, our payment app proceeds to verify the availability of the transaction amount. Upon confirmation of availability, our payment is successfully processed."
   ]
  },
  {
   "cell_type": "markdown",
   "id": "7f88183a-bf05-4795-b8ad-6e95a5fc3755",
   "metadata": {},
   "source": [
    "     "
   ]
  },
  {
   "cell_type": "markdown",
   "id": "6bad35c5-6be7-4b7a-a79f-7c65e6e57070",
   "metadata": {},
   "source": [
    "Q2. Give advantages and disadvantages of using API."
   ]
  },
  {
   "cell_type": "markdown",
   "id": "7cf2fb27-40b8-4ec3-a2e9-ad77994efc34",
   "metadata": {},
   "source": [
    "#### Answer - "
   ]
  },
  {
   "cell_type": "markdown",
   "id": "4873a0ae-1a55-49fb-8f57-a8b7a7b203fd",
   "metadata": {},
   "source": [
    "##### Advantages of APIs :-\n",
    "\n",
    "- **Increased Interoperability :-** APIs allow different software systems to talk to each other regardless of their programming language or platform. This makes it easier to integrate data and functionality from various sources.\n",
    "\n",
    "* **Improved Efficiency :-** By using APIs, developers can leverage pre-built functionalities instead of writing everything from scratch. This saves time and reduces development costs.\n",
    "\n",
    "* **Better User Experience :-** APIs enable third-party developers to create applications that integrate with existing software, providing users with more features and a richer experience.\n",
    "\n",
    "* **Increased Flexibility :-** APIs offer a modular approach to software development. You can easily swap out or add functionalities based on your needs.\n",
    "\n",
    "* **New Revenue Streams :-** Businesses can expose their data and functionalities through APIs, opening doors for new revenue streams through subscriptions or usage fees.\n",
    "\n",
    "##### Disadvantages of APIs:\n",
    "\n",
    "* **Security Concerns :-** APIs can be a target for hackers if not properly secured.  It's crucial to implement robust authentication and authorization mechanisms.\n",
    "\n",
    "* **Complexity :-**  APIs can introduce complexity to your system, especially when dealing with multiple APIs or managing data consistency across different systems.\n",
    "\n",
    "* **Compatibility Issues :-**  Changes to an API can break applications that rely on it.  Good API design practices like versioning and clear documentation are essential.\n",
    "\n",
    "* **Dependency on Third-Party Developers :-**  If you rely on external APIs, their availability and functionality can impact your application.  Having backup plans or alternative APIs is recommended.\n",
    "\n",
    "* **Governance and Management :-**  Effectively managing and governing API access and usage within an organization can be a challenge, especially for large-scale deployments."
   ]
  },
  {
   "cell_type": "markdown",
   "id": "730f66f1-b230-4631-b000-db8ef6b7561d",
   "metadata": {},
   "source": [
    "     "
   ]
  },
  {
   "cell_type": "markdown",
   "id": "1d522719-0212-4623-9079-913f794adbe8",
   "metadata": {},
   "source": [
    "Q3. What is a Web API? Differentiate between API and Web API."
   ]
  },
  {
   "cell_type": "markdown",
   "id": "96f6a4d9-f5b3-45e6-a5a8-30c4894293d5",
   "metadata": {},
   "source": [
    "#### Answer - "
   ]
  },
  {
   "cell_type": "markdown",
   "id": "f0b329cb-92d3-4a02-b1cd-8bd136be8e3e",
   "metadata": {},
   "source": [
    "Web API stands for Web Application Programming Interface. A Web API is an interface that allows different software applications to communicate with each other over the internet using standard web protocols.\n",
    "\n",
    "##### Difference between API and Web API :-\n",
    "\n",
    "* API allows two application to communicate with each other and Web API specially allow to communicate with any application through web protocol by using internet.\n",
    "\n",
    "* API can use many protocols like TCP/IP, HTTP etc. to communicate but Web API only use HTTP protocol to communicte.\n",
    "\n",
    "* Web API is the subset of API, API is the main communication interface to communicate between or within applications.\n",
    "\n",
    "* APIs can be accessed through various means, including local function calls (in the case of library APIs), system calls (in the case of operating system APIs), or remote HTTP requests (in the case of web APIs) but Web APIs are typically accessed through HTTP requests made to specific URLs exposed by the API provider."
   ]
  },
  {
   "cell_type": "markdown",
   "id": "f53c2167-f761-44fd-b0dc-543ec72e71a4",
   "metadata": {},
   "source": [
    "     "
   ]
  },
  {
   "cell_type": "markdown",
   "id": "c26da066-ce45-4254-a998-43de572f0152",
   "metadata": {},
   "source": [
    "Q4. Explain REST and SOAP Architecture. Mention shortcomings of SOAP."
   ]
  },
  {
   "cell_type": "markdown",
   "id": "7599a53b-8411-486e-8048-a66a1132ad04",
   "metadata": {},
   "source": [
    "#### Answer - "
   ]
  },
  {
   "cell_type": "markdown",
   "id": "32513b83-7670-4792-b2eb-90814c8186e5",
   "metadata": {},
   "source": [
    "**REST Architecture -** REST Architecture is used for Web based API.\n",
    "\n",
    "**SOAP Architecture -** SOAP Architecture based on XML language.\n",
    "\n",
    "##### Shortcomings of SOAP :-\n",
    "\n",
    "* **Less Flexible :-** SOAP Architecture is less flexible. \n",
    "\n",
    "* **Complex :-** SOAP Architecture is complex.\n",
    "\n",
    "* **Slow Performance :-** SOAP Architecture performance goes slow because of its verbosity XML and strict processing."
   ]
  },
  {
   "cell_type": "markdown",
   "id": "76b561af-4392-40de-9b40-381ae2b4dcb4",
   "metadata": {},
   "source": [
    "     "
   ]
  },
  {
   "cell_type": "markdown",
   "id": "df538244-88a0-4af3-98b5-926bf33c6190",
   "metadata": {},
   "source": [
    "Q5. Differentiate between REST and SOAP."
   ]
  },
  {
   "cell_type": "markdown",
   "id": "9c342f74-a622-42ad-9fa4-917062964800",
   "metadata": {},
   "source": [
    "#### Answer - "
   ]
  },
  {
   "cell_type": "markdown",
   "id": "b4fd79fd-072b-4b58-abc0-da99f2a5d2e7",
   "metadata": {},
   "source": [
    "##### Difference between REST and SOAP :-  \n",
    "\n",
    "* **Security :-** SOAP Architecture provides high security but in REST Architecture security is not a priority.\n",
    "\n",
    "* **Scalable :-** REST Architecture is more scalable but SOAP is less scalable.\n",
    "\n",
    "* **Complex :-** SOAP Architecture is more complex but REST is not.\n",
    "\n",
    "* **Performance :-** REST Architecture is faster then SOAP.\n",
    "\n",
    "* **Flexible :-** REST Architecture is flexible but SOAP is Strict, relies on XML messages and WSDL contracts.\n",
    "\n",
    "* **Ease of use :-** REST Architecture is more easy to use but SOAP is not.\n",
    "\n",
    "* **Data Format :-** REST Supports various formats like JSON, XML, plain text but SOAP Primarily uses XML."
   ]
  },
  {
   "cell_type": "code",
   "execution_count": null,
   "id": "53413a84-02b3-4cc1-9ad7-389457ec13e6",
   "metadata": {},
   "outputs": [],
   "source": []
  }
 ],
 "metadata": {
  "kernelspec": {
   "display_name": "Python 3 (ipykernel)",
   "language": "python",
   "name": "python3"
  },
  "language_info": {
   "codemirror_mode": {
    "name": "ipython",
    "version": 3
   },
   "file_extension": ".py",
   "mimetype": "text/x-python",
   "name": "python",
   "nbconvert_exporter": "python",
   "pygments_lexer": "ipython3",
   "version": "3.10.8"
  }
 },
 "nbformat": 4,
 "nbformat_minor": 5
}
