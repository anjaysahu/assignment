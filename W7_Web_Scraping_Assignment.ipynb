{
 "cells": [
  {
   "cell_type": "markdown",
   "id": "c087e2df-5e98-47d1-b7de-d6d2f15d74e5",
   "metadata": {},
   "source": [
    "Q1. What is Web Scraping? Why is it Used? Give three areas where Web Scraping is used to get data."
   ]
  },
  {
   "cell_type": "markdown",
   "id": "ac0071ae-6750-41c2-9d41-4086598efd85",
   "metadata": {},
   "source": [
    "#### Answer - "
   ]
  },
  {
   "cell_type": "markdown",
   "id": "cb059562-0038-4a39-ae90-9297232ca991",
   "metadata": {},
   "source": [
    "Web Scraping is automated way to extract data from any website.   \n",
    "It is used for :-\n",
    "\n",
    "**Efficiency -** Manually collecting data from websites, product prices for instance, would be incredibly tedious. Web scraping automates this process.   \n",
    "\n",
    "**Price Comparison :-** websites that compare prices across different vendors heavily rely on web scraping. By scraping product data from various online stores, they can automatically update their listings.  \n",
    "\n",
    "**Market Research :** Companies trying to understand market trends or gauge customer sentiment often use web scraping."
   ]
  },
  {
   "cell_type": "markdown",
   "id": "8ec64d2b-d271-46bb-b312-0a07d4a9edb1",
   "metadata": {},
   "source": [
    "       "
   ]
  },
  {
   "cell_type": "markdown",
   "id": "fb5943db-4c4c-46ee-b2f2-3eab39b2eab1",
   "metadata": {},
   "source": [
    "Q2. What are the different methods used for Web Scraping?"
   ]
  },
  {
   "cell_type": "markdown",
   "id": "89bef113-45b5-4000-ac6a-ec29a63ba949",
   "metadata": {},
   "source": [
    "#### Answer - "
   ]
  },
  {
   "cell_type": "markdown",
   "id": "fcfc7f43-96c8-4421-b3d2-6db60dc67806",
   "metadata": {},
   "source": [
    "The different methods used for Web Scraping-  \n",
    "\n",
    "__Manual Scraping :-__ This is the simplest method, where you manually copy the desired data from a webpage and paste it into a spreadsheet or document. While suitable for small amounts of data, it's incredibly time-consuming and impractical for large-scale scraping.\n",
    "\n",
    "**HTML Parsing :-** This method involves parsing the website's code structure (HTML) to locate and extract the desired data. Libraries like Beautiful Soup can simplify this process.\n",
    "\n",
    "**Web Scraping Software :-** There are specialized software tools designed for web scraping. These tools often offer user-friendly interfaces and can automate various scraping tasks without needing to write code from scratch."
   ]
  },
  {
   "cell_type": "markdown",
   "id": "e3b7df86-e47e-4a95-bdab-4e5ff82913b8",
   "metadata": {},
   "source": [
    "       "
   ]
  },
  {
   "cell_type": "markdown",
   "id": "0ea1f973-01a5-4fad-9108-9f857ce58a10",
   "metadata": {},
   "source": [
    "Q3. What is Beautiful Soup? Why is it used?"
   ]
  },
  {
   "cell_type": "markdown",
   "id": "d11f8a92-28cb-4483-8d6e-cee26350ce5f",
   "metadata": {},
   "source": [
    "#### Answer - "
   ]
  },
  {
   "cell_type": "markdown",
   "id": "a9f1644c-79e3-481c-8cf7-a89e65f8b453",
   "metadata": {},
   "source": [
    "Beautiful Soup is a package in Python. It is used to parse the HTML page."
   ]
  },
  {
   "cell_type": "markdown",
   "id": "e226b0ae-a6bc-4a17-9187-e72d8e005b81",
   "metadata": {},
   "source": [
    "       "
   ]
  },
  {
   "cell_type": "markdown",
   "id": "d3544a3a-2eb6-4cd0-9fb5-f42b3ea4f497",
   "metadata": {},
   "source": [
    "Q4. Why is flask used in this Web Scraping project?"
   ]
  },
  {
   "cell_type": "markdown",
   "id": "c9f00ac3-bd74-4d02-980a-bfeda18a251f",
   "metadata": {},
   "source": [
    "#### Answer - "
   ]
  },
  {
   "cell_type": "markdown",
   "id": "71298ccd-e187-43aa-9c6a-c339a4113aeb",
   "metadata": {},
   "source": [
    "Flask provides a convenient framework for building web scraping applications, offering the necessary tools and flexibility to develop, deploy, and maintain such projects effectively."
   ]
  },
  {
   "cell_type": "markdown",
   "id": "1be4cf3b-03c9-4e67-a6e4-84e935fa2e3c",
   "metadata": {},
   "source": [
    "       "
   ]
  },
  {
   "cell_type": "markdown",
   "id": "a0c7ce52-caca-48c7-a8b6-c5c2217d4c45",
   "metadata": {},
   "source": [
    "Q5. Write the names of AWS services used in this project. Also, explain the use of each service."
   ]
  },
  {
   "cell_type": "markdown",
   "id": "0726bab0-0459-4cac-ba94-ce5d907ef0b2",
   "metadata": {},
   "source": [
    "#### Answer - "
   ]
  },
  {
   "cell_type": "markdown",
   "id": "e4cca28b-0893-4ddb-a3e4-0d222f785434",
   "metadata": {},
   "source": [
    "Code Pipeline - Code Pipeline provides a way to connect github repository to Elastic Beanstalk."
   ]
  },
  {
   "cell_type": "markdown",
   "id": "bcb2e772-af35-446e-9ec3-50a1016af89b",
   "metadata": {},
   "source": [
    "Elastic Beanstalk - Elastic Beanstalk is the platform where we deploy the main API."
   ]
  },
  {
   "cell_type": "markdown",
   "id": "efba134d-a307-438b-b9ca-0052eabd40c6",
   "metadata": {},
   "source": [
    "IAM Role - IAM Role provides AWS services and resources to access and control Applications."
   ]
  },
  {
   "cell_type": "code",
   "execution_count": null,
   "id": "0d4caf02-bc57-4d59-b7bd-347b301ee72d",
   "metadata": {},
   "outputs": [],
   "source": []
  }
 ],
 "metadata": {
  "kernelspec": {
   "display_name": "Python 3 (ipykernel)",
   "language": "python",
   "name": "python3"
  },
  "language_info": {
   "codemirror_mode": {
    "name": "ipython",
    "version": 3
   },
   "file_extension": ".py",
   "mimetype": "text/x-python",
   "name": "python",
   "nbconvert_exporter": "python",
   "pygments_lexer": "ipython3",
   "version": "3.10.8"
  }
 },
 "nbformat": 4,
 "nbformat_minor": 5
}
